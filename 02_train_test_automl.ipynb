{
 "cells": [
  {
   "cell_type": "markdown",
   "id": "503bcd50",
   "metadata": {},
   "source": [
    "# AutoML"
   ]
  },
  {
   "cell_type": "code",
   "execution_count": 1,
   "id": "8fea289c",
   "metadata": {},
   "outputs": [],
   "source": [
    "import sagemaker\n",
    "import boto3\n",
    "import os\n",
    "import numpy as np\n",
    "from sagemaker.automl.automl import AutoML\n",
    "\n",
    "\n",
    "sagemaker_session = sagemaker.Session()\n",
    "\n",
    "bucket = sagemaker_session.default_bucket()\n",
    "prefix = 'real-estate'\n",
    "\n",
    "role = sagemaker.get_execution_role()"
   ]
  },
  {
   "cell_type": "code",
   "execution_count": 2,
   "id": "2770c327",
   "metadata": {},
   "outputs": [],
   "source": [
    "data_dir = 'data'\n",
    "train_key = os.path.join(prefix, 'train/train.csv')\n",
    "test_key = os.path.join(prefix, 'test/test.csv')"
   ]
  },
  {
   "cell_type": "code",
   "execution_count": null,
   "id": "3f97ee45",
   "metadata": {},
   "outputs": [],
   "source": [
    "# boto3.Session().resource('s3').Bucket(bucket).Object(train_key).upload_file(os.path.join(data_dir, 'clean_data_november.csv'))\n",
    "# boto3.Session().resource('s3').Bucket(bucket).Object(test_key).upload_file(os.path.join(data_dir, 'clean_data_december.csv'))"
   ]
  },
  {
   "cell_type": "code",
   "execution_count": 29,
   "id": "dc2e75d1",
   "metadata": {},
   "outputs": [],
   "source": [
    "# automl_job = AutoML(\n",
    "#     role=role,\n",
    "#     target_attribute_name='eur_price',\n",
    "#     problem_type='Regression',\n",
    "#     job_objective={'MetricName': 'MSE'},\n",
    "#     max_candidates=250\n",
    "# )"
   ]
  },
  {
   "cell_type": "code",
   "execution_count": 47,
   "id": "b94129ad",
   "metadata": {},
   "outputs": [],
   "source": [
    "# s3_input_train = 's3://{}/{}/train'.format(bucket, prefix)"
   ]
  },
  {
   "cell_type": "code",
   "execution_count": null,
   "id": "bb2dbb29",
   "metadata": {},
   "outputs": [
    {
     "name": "stdout",
     "output_type": "stream",
     "text": [
      "........."
     ]
    }
   ],
   "source": [
    "# automl_job.fit(inputs=s3_input_train)"
   ]
  },
  {
   "cell_type": "markdown",
   "id": "f3c8078a",
   "metadata": {},
   "source": [
    "# Deploying model"
   ]
  },
  {
   "cell_type": "code",
   "execution_count": 3,
   "id": "52e83dec",
   "metadata": {},
   "outputs": [],
   "source": [
    "client = boto3.client('sagemaker')\n",
    "automl_job_name = client.list_auto_ml_jobs()['AutoMLJobSummaries'][0]['AutoMLJobName']\n",
    "automl_job = AutoML.attach(auto_ml_job_name=automl_job_name, sagemaker_session=sagemaker_session)"
   ]
  },
  {
   "cell_type": "markdown",
   "id": "62c68572",
   "metadata": {},
   "source": [
    "# Building Predictor"
   ]
  },
  {
   "cell_type": "code",
   "execution_count": 4,
   "id": "991aaee5",
   "metadata": {},
   "outputs": [],
   "source": [
    "from sagemaker.predictor import Predictor\n",
    "from sagemaker.serializers import CSVSerializer\n",
    "from sagemaker.deserializers import CSVDeserializer"
   ]
  },
  {
   "cell_type": "code",
   "execution_count": 5,
   "id": "4e39e15f",
   "metadata": {},
   "outputs": [
    {
     "name": "stdout",
     "output_type": "stream",
     "text": [
      "---------------------!"
     ]
    }
   ],
   "source": [
    "predictor = automl_job.deploy(\n",
    "    initial_instance_count=1,\n",
    "    instance_type='ml.m4.xlarge',\n",
    "    predictor_cls=Predictor,\n",
    "    serializer=CSVSerializer(),\n",
    "    deserializer=CSVDeserializer(),\n",
    ")"
   ]
  },
  {
   "cell_type": "markdown",
   "id": "af2d2af4",
   "metadata": {},
   "source": [
    "# Testing the model"
   ]
  },
  {
   "cell_type": "code",
   "execution_count": 6,
   "id": "0e99835a",
   "metadata": {},
   "outputs": [],
   "source": [
    "import pandas as pd\n",
    "from sklearn.metrics import mean_squared_error\n",
    "from helpers import *"
   ]
  },
  {
   "cell_type": "code",
   "execution_count": 7,
   "id": "7ca5dc40",
   "metadata": {},
   "outputs": [],
   "source": [
    "test_df = get_df_from_s3(bucket, test_key)\n",
    "train_df = get_df_from_s3(bucket, train_key)"
   ]
  },
  {
   "cell_type": "code",
   "execution_count": 8,
   "id": "53e1e5ee",
   "metadata": {},
   "outputs": [],
   "source": [
    "predicted_prices = np.array([float(prediction) for prediction in predictor.predict(test_df.iloc[:, 1:].to_csv(sep=',', header=False, index=False))[0]])\n",
    "benchmark_prices = np.array(get_benchmark_prices_list(test_df, train_df))\n",
    "actual_prices = test_df['eur_price'].values"
   ]
  },
  {
   "cell_type": "code",
   "execution_count": 18,
   "id": "af4ac655",
   "metadata": {},
   "outputs": [
    {
     "name": "stdout",
     "output_type": "stream",
     "text": [
      "The model has a RMSE of 83969.07725973855, while the benchmark only obtains a RMSE of 212331.49665456844.\n"
     ]
    }
   ],
   "source": [
    "if mean_squared_error(actual_prices, predicted_prices) < mean_squared_error(actual_prices, benchmark_prices):\n",
    "    print(f'The model has a RMSE of {mean_squared_error(actual_prices, predicted_prices, squared=False)}, while the benchmark only obtains a RMSE of {mean_squared_error(actual_prices, benchmark_prices, squared=False)}.')"
   ]
  },
  {
   "cell_type": "markdown",
   "id": "8ab8d800",
   "metadata": {},
   "source": [
    "The model can be consumed [here](https://quizzical-brattain-4ffddb.netlify.app/)."
   ]
  },
  {
   "cell_type": "code",
   "execution_count": 17,
   "id": "bb076c32",
   "metadata": {},
   "outputs": [],
   "source": [
    "# here are some values that can be used in the form to try it out\n",
    "\n",
    "# {\n",
    "#    \"surface_area\":50,\n",
    "#    \"rooms\":2,\n",
    "#    \"bathrooms\":2,\n",
    "#    \"max_floor\":0,\n",
    "#    \"comfort\":\"comfort_1\",\n",
    "#    \"floor_type\":\"first_floor\",\n",
    "#    \"building_age\":\"before_1941\",\n",
    "#    \"building_structure\":\"concrete_building_structure\",\n",
    "#    \"neighborhood\":\"1_mai_area\",\n",
    "#    \"decomandat\":False,\n",
    "#    \"has_balconies\":False,\n",
    "#    \"has_parking_spots_or_garages\":False,\n",
    "#    \"has_floor_heating\":False,\n",
    "#    \"only_district_heating\":False,\n",
    "#    \"building_with_video_surveillance\":False\n",
    "# }"
   ]
  },
  {
   "cell_type": "code",
   "execution_count": 13,
   "id": "5411945d",
   "metadata": {},
   "outputs": [],
   "source": [
    "# predictor.delete_endpoint()"
   ]
  },
  {
   "cell_type": "code",
   "execution_count": null,
   "id": "a6fad88f",
   "metadata": {},
   "outputs": [],
   "source": []
  }
 ],
 "metadata": {
  "kernelspec": {
   "display_name": "conda_python3",
   "language": "python",
   "name": "conda_python3"
  },
  "language_info": {
   "codemirror_mode": {
    "name": "ipython",
    "version": 3
   },
   "file_extension": ".py",
   "mimetype": "text/x-python",
   "name": "python",
   "nbconvert_exporter": "python",
   "pygments_lexer": "ipython3",
   "version": "3.6.13"
  }
 },
 "nbformat": 4,
 "nbformat_minor": 5
}
