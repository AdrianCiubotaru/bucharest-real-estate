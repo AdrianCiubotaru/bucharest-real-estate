{
 "cells": [
  {
   "cell_type": "code",
   "execution_count": 1,
   "metadata": {},
   "outputs": [],
   "source": [
    "import pandas as pd\n",
    "import numpy as np\n",
    "import re\n",
    "from tests import *"
   ]
  },
  {
   "cell_type": "code",
   "execution_count": 24,
   "metadata": {},
   "outputs": [],
   "source": [
    "dict_of_announcements = pd.read_pickle(r'parsed_announcements.pkl')\n",
    "df = pd.DataFrame(dict_of_announcements)"
   ]
  },
  {
   "cell_type": "markdown",
   "metadata": {
    "tags": []
   },
   "source": [
    "## Creating the dependant variabile\n",
    "- removing listings meant as rentals\n",
    "- standardizing the prices (using the same currency & adding the VAT where necessary)"
   ]
  },
  {
   "cell_type": "code",
   "execution_count": 25,
   "metadata": {},
   "outputs": [],
   "source": [
    "df = df.drop(df[df['price'].apply(lambda x: '/ lună' in x)].index).reset_index(drop=True)"
   ]
  },
  {
   "cell_type": "code",
   "execution_count": 26,
   "metadata": {},
   "outputs": [],
   "source": [
    "def get_eur_price(input_string):\n",
    "    if '€' in input_string:\n",
    "        final_string = input_string[:input_string.find('€')]\n",
    "    if 'EUR' in input_string:\n",
    "        final_string = input_string[:input_string.find('EUR')]\n",
    "    return int(re.findall(r'\\d+\\.\\d+\\.?[0-9]*', final_string)[-1].replace('.', ''))\n",
    "\n",
    "df['eur_price'] = df['price'].apply(lambda x: get_eur_price(x))\n",
    "df['eur_price'] = np.where(\n",
    "    (df['eur_price'] <= 140000) & (df['price'].apply(lambda x: 'TVA' in x)),\n",
    "    df['eur_price'] * 1.05,\n",
    "    np.where(\n",
    "        (df['eur_price'] > 140000) & (df['price'].apply(lambda x: 'TVA' in x)),\n",
    "        df['eur_price'] * 1.19,\n",
    "        df['eur_price']\n",
    "    )\n",
    ")"
   ]
  },
  {
   "cell_type": "code",
   "execution_count": 27,
   "metadata": {},
   "outputs": [
    {
     "name": "stdout",
     "output_type": "stream",
     "text": [
      "Tests passed!\n",
      "Tests passed!\n"
     ]
    }
   ],
   "source": [
    "test_rent_removed(df)\n",
    "test_price_values(df)"
   ]
  },
  {
   "cell_type": "markdown",
   "metadata": {},
   "source": [
    "# Creating independent variables"
   ]
  },
  {
   "cell_type": "code",
   "execution_count": 31,
   "metadata": {},
   "outputs": [],
   "source": [
    "# renaming columns\n",
    "original_cols = ['Nr. camere', 'Suprafaţă utilă', 'Compartimentare', 'Confort', 'Etaj', 'Nr. bucătării', 'Nr. băi', 'An construcţie', 'Structură rezistenţă', 'Tip imobil', 'Nr. balcoane', 'Nr. locuri parcare', 'Nr. garaje']\n",
    "new_cols = ['rooms', 'surface_area', 'partitioning_type', 'comfort_type', 'floors', 'kitchens', 'bathrooms', 'building_year', 'building_structure', 'building_type', 'balconies', 'parking_spots', 'garages']\n",
    "df.rename(columns={original_cols[i]: new_cols[i] for i in range(len(original_cols))}, inplace=True)"
   ]
  },
  {
   "cell_type": "markdown",
   "metadata": {},
   "source": [
    "### Droping null values for critical columns"
   ]
  },
  {
   "cell_type": "code",
   "execution_count": 22,
   "metadata": {},
   "outputs": [],
   "source": [
    "df.drop(df[(df['rooms'].isnull()) | (df['surface_area'].isnull())].index, inplace=True)"
   ]
  },
  {
   "cell_type": "code",
   "execution_count": 23,
   "metadata": {},
   "outputs": [
    {
     "data": {
      "text/plain": [
       "rooms           0\n",
       "surface_area    0\n",
       "dtype: int64"
      ]
     },
     "execution_count": 23,
     "metadata": {},
     "output_type": "execute_result"
    }
   ],
   "source": [
    "df[['rooms', 'surface_area']].isnull().sum()"
   ]
  },
  {
   "cell_type": "code",
   "execution_count": 8,
   "metadata": {},
   "outputs": [],
   "source": [
    "# change \"compartimentare\" to is_decomandat\n",
    "# change \"confort\" to confort_1, lux, other"
   ]
  },
  {
   "cell_type": "markdown",
   "metadata": {},
   "source": [
    "### Transforming apartment floor intro dummies. Final values: first_floor, last_floor, other\n",
    "1. dropping entries without propper labeling (x/y) format\n",
    "2. transforming the x/y values by comparing x to y and getting the final values\n",
    "3. creating dummies"
   ]
  },
  {
   "cell_type": "code",
   "execution_count": 29,
   "metadata": {},
   "outputs": [],
   "source": [
    "df.drop(df[(df['floors'].apply(lambda x: '/' not in x))].index, inplace=True)\n",
    "floor_series = df['floors'].apply(lambda x: x.split('/')[0]).reset_index(drop=True)\n",
    "max_height_series = df['floors'].apply(lambda x: x.split('/')[-1].strip()).astype(int).reset_index(drop=True)\n",
    "floor_series = pd.Series(\n",
    "        np.where(\n",
    "        floor_series.apply(lambda x: any([val in x.lower() for val in ['parter', 'demi']])),\n",
    "        '0',\n",
    "        np.where(\n",
    "            floor_series.apply(lambda x: any([val in x.lower() for val in ['ultim', 'mansard']])),\n",
    "            '99',\n",
    "            floor_series\n",
    "        )\n",
    "    )\n",
    ").apply(lambda x: re.findall(r'\\d+', x)[0]).astype(int)\n",
    "df['floor'] = np.where(\n",
    "    floor_series == 0,\n",
    "    'first_floor',\n",
    "    np.where(\n",
    "        floor_series >= max_height_series,\n",
    "        'last_floor',\n",
    "        'other'\n",
    "    )\n",
    ")\n",
    "df = pd.concat([df, pd.get_dummies(df['floor'])], axis=1)"
   ]
  },
  {
   "cell_type": "code",
   "execution_count": null,
   "metadata": {},
   "outputs": [],
   "source": [
    "###"
   ]
  },
  {
   "cell_type": "code",
   "execution_count": 36,
   "metadata": {},
   "outputs": [
    {
     "data": {
      "text/plain": [
       "1      1509\n",
       "2       846\n",
       "3       179\n",
       "NaN      42\n",
       "4        33\n",
       "5         3\n",
       "7         1\n",
       "11        1\n",
       "Name: bathrooms, dtype: int64"
      ]
     },
     "execution_count": 36,
     "metadata": {},
     "output_type": "execute_result"
    }
   ],
   "source": [
    "df['bathrooms']."
   ]
  },
  {
   "cell_type": "code",
   "execution_count": 32,
   "metadata": {},
   "outputs": [
    {
     "data": {
      "text/plain": [
       "Index(['rooms', 'surface_area', 'Suprafaţă construită', 'partitioning_type',\n",
       "       'comfort_type', 'floors', 'kitchens', 'bathrooms', 'building_year',\n",
       "       'building_structure', 'building_type', 'Regim înălţime', 'url',\n",
       "       'specifications', 'price', 'balconies', 'parking_spots', 'garages',\n",
       "       'Suprafaţă utilă totală', 'eur_price', 'floor', 'first_floor',\n",
       "       'last_floor', 'other'],\n",
       "      dtype='object')"
      ]
     },
     "execution_count": 32,
     "metadata": {},
     "output_type": "execute_result"
    }
   ],
   "source": [
    "df.columns"
   ]
  },
  {
   "cell_type": "markdown",
   "metadata": {},
   "source": [
    "# TODO creeaza TESTE pentru: \n",
    "- valori nule\n",
    "- valori acceptate in coloane"
   ]
  },
  {
   "cell_type": "code",
   "execution_count": 115,
   "metadata": {},
   "outputs": [],
   "source": []
  },
  {
   "cell_type": "code",
   "execution_count": 22,
   "metadata": {},
   "outputs": [
    {
     "data": {
      "text/plain": [
       "1      1790\n",
       "lux     705\n",
       "NaN     125\n",
       "2        25\n",
       "3         6\n",
       "Name: Confort, dtype: int64"
      ]
     },
     "execution_count": 22,
     "metadata": {},
     "output_type": "execute_result"
    }
   ],
   "source": [
    "df['Confort'].value_counts(dropna=False)"
   ]
  },
  {
   "cell_type": "code",
   "execution_count": 26,
   "metadata": {},
   "outputs": [
    {
     "data": {
      "text/plain": [
       "Nr. camere\n",
       "1     96482.545455\n",
       "2    152445.772024\n",
       "3    283327.581265\n",
       "4    551931.228154\n",
       "5    997450.205526\n",
       "6    750952.500000\n",
       "7    980000.000000\n",
       "9    405000.000000\n",
       "Name: eur_price, dtype: float64"
      ]
     },
     "execution_count": 26,
     "metadata": {},
     "output_type": "execute_result"
    }
   ],
   "source": [
    "df[df['Confort'] == 'lux'].groupby('Nr. camere')['eur_price'].mean()"
   ]
  },
  {
   "cell_type": "code",
   "execution_count": 32,
   "metadata": {},
   "outputs": [
    {
     "data": {
      "text/plain": [
       "['Nr. camere',\n",
       " 'Suprafaţă utilă',\n",
       " 'Suprafaţă construită',\n",
       " 'Compartimentare',\n",
       " 'Confort',\n",
       " 'Etaj',\n",
       " 'Nr. bucătării',\n",
       " 'Nr. băi',\n",
       " 'An construcţie',\n",
       " 'Structură rezistenţă',\n",
       " 'Tip imobil',\n",
       " 'Regim înălţime',\n",
       " 'Nr. balcoane',\n",
       " 'Nr. locuri parcare',\n",
       " 'Nr. garaje',\n",
       " 'Suprafaţă utilă totală']"
      ]
     },
     "execution_count": 32,
     "metadata": {},
     "output_type": "execute_result"
    }
   ],
   "source": [
    "['Nr. camere', 'Suprafaţă utilă', 'Suprafaţă construită', 'Compartimentare', 'Confort', 'Etaj', 'Nr. bucătării', 'Nr. băi', 'An construcţie', 'Structură rezistenţă', 'Tip imobil', 'Regim înălţime', \n",
    "'Nr. balcoane', 'Nr. locuri parcare', 'Nr. garaje', 'Suprafaţă utilă totală']\n",
    "['rooms', 'Suprafaţă utilă', 'Suprafaţă construită', 'Compartimentare', 'Confort', 'Etaj', 'Nr. bucătării', 'Nr. băi', 'An construcţie', 'Structură rezistenţă', 'Tip imobil', 'Regim înălţime', \n",
    "'Nr. balcoane', 'Nr. locuri parcare', 'Nr. garaje', 'Suprafaţă utilă totală']"
   ]
  },
  {
   "cell_type": "code",
   "execution_count": 34,
   "metadata": {},
   "outputs": [
    {
     "data": {
      "text/plain": [
       "array(['4', '3', '2', '5', '6', '1', '7', '9', '8'], dtype=object)"
      ]
     },
     "execution_count": 34,
     "metadata": {},
     "output_type": "execute_result"
    }
   ],
   "source": [
    "df['Nr. camere'].unique()"
   ]
  },
  {
   "cell_type": "code",
   "execution_count": 31,
   "metadata": {},
   "outputs": [
    {
     "data": {
      "text/plain": [
       "Index(['Nr. camere', 'Suprafaţă utilă', 'Suprafaţă construită',\n",
       "       'Compartimentare', 'Confort', 'Etaj', 'Nr. bucătării', 'Nr. băi',\n",
       "       'An construcţie', 'Structură rezistenţă', 'Tip imobil',\n",
       "       'Regim înălţime', 'url', 'specifications', 'price', 'Nr. balcoane',\n",
       "       'Nr. locuri parcare', 'Nr. garaje', 'Suprafaţă utilă totală',\n",
       "       'eur_price'],\n",
       "      dtype='object')"
      ]
     },
     "execution_count": 31,
     "metadata": {},
     "output_type": "execute_result"
    }
   ],
   "source": [
    "df.columns"
   ]
  },
  {
   "cell_type": "code",
   "execution_count": null,
   "metadata": {},
   "outputs": [],
   "source": []
  },
  {
   "cell_type": "code",
   "execution_count": null,
   "metadata": {},
   "outputs": [],
   "source": []
  },
  {
   "cell_type": "code",
   "execution_count": 11,
   "metadata": {},
   "outputs": [
    {
     "data": {
      "text/html": [
       "<div>\n",
       "<style scoped>\n",
       "    .dataframe tbody tr th:only-of-type {\n",
       "        vertical-align: middle;\n",
       "    }\n",
       "\n",
       "    .dataframe tbody tr th {\n",
       "        vertical-align: top;\n",
       "    }\n",
       "\n",
       "    .dataframe thead th {\n",
       "        text-align: right;\n",
       "    }\n",
       "</style>\n",
       "<table border=\"1\" class=\"dataframe\">\n",
       "  <thead>\n",
       "    <tr style=\"text-align: right;\">\n",
       "      <th></th>\n",
       "      <th>Nr. camere</th>\n",
       "      <th>Suprafaţă utilă</th>\n",
       "      <th>Suprafaţă construită</th>\n",
       "      <th>Compartimentare</th>\n",
       "      <th>Confort</th>\n",
       "      <th>Etaj</th>\n",
       "      <th>Nr. bucătării</th>\n",
       "      <th>Nr. băi</th>\n",
       "      <th>An construcţie</th>\n",
       "      <th>Structură rezistenţă</th>\n",
       "      <th>Tip imobil</th>\n",
       "      <th>Regim înălţime</th>\n",
       "      <th>url</th>\n",
       "      <th>specifications</th>\n",
       "      <th>price</th>\n",
       "      <th>Nr. balcoane</th>\n",
       "      <th>Nr. locuri parcare</th>\n",
       "      <th>Nr. garaje</th>\n",
       "      <th>Suprafaţă utilă totală</th>\n",
       "      <th>eur_price</th>\n",
       "    </tr>\n",
       "  </thead>\n",
       "  <tbody>\n",
       "    <tr>\n",
       "      <th>1557</th>\n",
       "      <td>5</td>\n",
       "      <td>521 mp</td>\n",
       "      <td>NaN</td>\n",
       "      <td>decomandat</td>\n",
       "      <td>lux</td>\n",
       "      <td>Etaj 11 / 11</td>\n",
       "      <td>1</td>\n",
       "      <td>3</td>\n",
       "      <td>2021 (in constructie)</td>\n",
       "      <td>beton</td>\n",
       "      <td>bloc de apartamente</td>\n",
       "      <td>P+11E</td>\n",
       "      <td>https://www.imobiliare.ro/vanzare-apartamente/...</td>\n",
       "      <td>[Utilitati generale: Curent, Apa, Canalizare, ...</td>\n",
       "      <td>19.794.795 RON4.503.218 USD3.999.999 EUR + TVA</td>\n",
       "      <td>3</td>\n",
       "      <td>NaN</td>\n",
       "      <td>1</td>\n",
       "      <td>NaN</td>\n",
       "      <td>4759998.81</td>\n",
       "    </tr>\n",
       "  </tbody>\n",
       "</table>\n",
       "</div>"
      ],
      "text/plain": [
       "     Nr. camere Suprafaţă utilă Suprafaţă construită Compartimentare Confort  \\\n",
       "1557          5          521 mp                  NaN      decomandat     lux   \n",
       "\n",
       "              Etaj Nr. bucătării Nr. băi         An construcţie  \\\n",
       "1557  Etaj 11 / 11             1       3  2021 (in constructie)   \n",
       "\n",
       "     Structură rezistenţă           Tip imobil Regim înălţime  \\\n",
       "1557                beton  bloc de apartamente          P+11E   \n",
       "\n",
       "                                                    url  \\\n",
       "1557  https://www.imobiliare.ro/vanzare-apartamente/...   \n",
       "\n",
       "                                         specifications  \\\n",
       "1557  [Utilitati generale: Curent, Apa, Canalizare, ...   \n",
       "\n",
       "                                               price Nr. balcoane  \\\n",
       "1557  19.794.795 RON4.503.218 USD3.999.999 EUR + TVA            3   \n",
       "\n",
       "     Nr. locuri parcare Nr. garaje Suprafaţă utilă totală   eur_price  \n",
       "1557                NaN          1                    NaN  4759998.81  "
      ]
     },
     "execution_count": 11,
     "metadata": {},
     "output_type": "execute_result"
    }
   ],
   "source": [
    "df[df['eur_price'] == df['eur_price'].max()]"
   ]
  },
  {
   "cell_type": "code",
   "execution_count": 27,
   "metadata": {},
   "outputs": [
    {
     "data": {
      "text/plain": [
       "'1.000'"
      ]
     },
     "execution_count": 27,
     "metadata": {},
     "output_type": "execute_result"
    }
   ],
   "source": [
    "min([re.findall(r'\\d+\\.\\d+', listing['price'])[-1] for listing in dict_of_announcements if len(re.findall(r'\\d+\\.\\d+', listing['price'])) == 3])"
   ]
  },
  {
   "cell_type": "code",
   "execution_count": 68,
   "metadata": {},
   "outputs": [
    {
     "data": {
      "text/plain": [
       "'4.949.100 RON1.128 USD1.00.000 '"
      ]
     },
     "execution_count": 68,
     "metadata": {},
     "output_type": "execute_result"
    }
   ],
   "source": [
    "'4.949.100 RON1.128 USD1.00.000 EUR + TVA'[:'4.949.100 RON1.128 USD1.00.000 EUR + TVA'.find('EUR')]"
   ]
  },
  {
   "cell_type": "code",
   "execution_count": 65,
   "metadata": {},
   "outputs": [
    {
     "data": {
      "text/plain": [
       "619    145.539 EUR164.213 USD720.286 RON\n",
       "Name: price, dtype: object"
      ]
     },
     "execution_count": 65,
     "metadata": {},
     "output_type": "execute_result"
    }
   ],
   "source": [
    "df[df['price'].apply(lambda x: test(x)) == False]['price']"
   ]
  },
  {
   "cell_type": "code",
   "execution_count": 29,
   "metadata": {},
   "outputs": [
    {
     "data": {
      "text/plain": [
       "['4.949.100 RON1.128.309 USD1.000.000 EUR + TVA',\n",
       " '4.949.100 RON1.128.309 USD1.000.000 EUR + TVA',\n",
       " '4.949.100 RON1.128.309 $1.000.000 € + TVA',\n",
       " '4.949.100 RON1.128.309 USD1.000.000 EUR + TVA',\n",
       " '4.949.100 RON1.128.309 USD1.000.000 EUR + TVA',\n",
       " '4.948.700 RON1.125.805 USD1.000.000 EUR + TVA']"
      ]
     },
     "execution_count": 29,
     "metadata": {},
     "output_type": "execute_result"
    }
   ],
   "source": [
    "[listing['price'] for listing in dict_of_announcements if re.findall(r'\\d+\\.\\d+', listing['price'])[-1] == '1.000']"
   ]
  },
  {
   "cell_type": "code",
   "execution_count": 57,
   "metadata": {},
   "outputs": [
    {
     "data": {
      "text/plain": [
       "['4.949.100', '1.128', '1.00.000']"
      ]
     },
     "execution_count": 57,
     "metadata": {},
     "output_type": "execute_result"
    }
   ],
   "source": [
    "re.findall(r'\\d+\\.\\d+\\.?[0-9]*', '4.949.100 RON1.128 USD1.00.000 EUR + TVA')"
   ]
  },
  {
   "cell_type": "code",
   "execution_count": 11,
   "metadata": {},
   "outputs": [
    {
     "data": {
      "text/plain": [
       "['1.979 RON450 USD400 EUR / lună',\n",
       " '1.435 RON326 USD290 EUR / lună',\n",
       " '1.979 RON450 USD400 EUR / lună',\n",
       " '2.969 RON675 USD600 EUR / lună',\n",
       " '1.975 RON449 USD399 EUR / lună']"
      ]
     },
     "execution_count": 11,
     "metadata": {},
     "output_type": "execute_result"
    }
   ],
   "source": [
    "[listing['price'] for listing in dict_of_announcements if len(re.findall(r'\\d+\\.\\d+', listing['price'])) == 1]"
   ]
  },
  {
   "cell_type": "code",
   "execution_count": 3,
   "metadata": {},
   "outputs": [
    {
     "data": {
      "text/plain": [
       "{1, 3}"
      ]
     },
     "execution_count": 3,
     "metadata": {},
     "output_type": "execute_result"
    }
   ],
   "source": [
    "set([len(re.findall(r'\\d+\\.\\d+', listing['price'])) for listing in dict_of_announcements])"
   ]
  },
  {
   "cell_type": "code",
   "execution_count": 15,
   "metadata": {},
   "outputs": [
    {
     "data": {
      "text/plain": [
       "'1.000'"
      ]
     },
     "execution_count": 15,
     "metadata": {},
     "output_type": "execute_result"
    }
   ],
   "source": [
    "min([re.findall(r'\\d+\\.\\d+', listing['price'])[-1] for listing in dict_of_announcements if len(re.findall(r'\\d+\\.\\d+', listing['price'])) == 3])"
   ]
  },
  {
   "cell_type": "code",
   "execution_count": 93,
   "metadata": {},
   "outputs": [
    {
     "data": {
      "text/plain": [
       "[{'Nr. camere': '5',\n",
       "  'Suprafaţă utilă': '206 mp',\n",
       "  'Suprafaţă utilă totală': '245 mp',\n",
       "  'Suprafaţă construită': '300 mp',\n",
       "  'Compartimentare': 'decomandat',\n",
       "  'Confort': 'lux',\n",
       "  'Etaj': 'Ultimele 2 etaje / 12',\n",
       "  'Nr. bucătării': '1',\n",
       "  'Nr. băi': '3',\n",
       "  'An construcţie': '2020',\n",
       "  'Structură rezistenţă': 'beton',\n",
       "  'Tip imobil': 'bloc de apartamente',\n",
       "  'Regim înălţime': 'P+12E',\n",
       "  'Nr. locuri parcare': '2',\n",
       "  'Nr. balcoane': '2',\n",
       "  'url': 'https://www.imobiliare.ro/vanzare-apartamente/bucuresti/1-mai/penthouse-de-vanzare-5-camere-X9TB00024',\n",
       "  'specifications': ['Utilitati generale: Curent, Apa, Canalizare, CATV, Telefon international',\n",
       "   'Sistem incalzire: Centrala imobil, Calorifere, Incalzire prin pardoseala',\n",
       "   'Acces internet: Wireless',\n",
       "   'Ferestre cu geam termopan: Aluminiu',\n",
       "   'Stare interior: Buna',\n",
       "   'Usi interior: Celulare',\n",
       "   'Usa intrare: Metal',\n",
       "   'Izolatii termice: Exterior',\n",
       "   'Podele: Marmura, Parchet',\n",
       "   'Pereti: Vopsea lavabila',\n",
       "   'Alte spatii utile: Terasa, WC Serviciu, Debara',\n",
       "   'Contorizare: Contor caldura, Apometre',\n",
       "   'Mobilat: Nemobilat, Lux',\n",
       "   'Diverse: Scara interioara, Telecomanda poarta garaj, Telecomanda poarta acces auto',\n",
       "   'Dotari imobil: Spatii agrement, Lift, Curte comuna, Videointerfon',\n",
       "   'Servicii imobil: Administrare, Paza, Supraveghere video',\n",
       "   'Amenajare strazi: Asfaltate, Betonate',\n",
       "   'Iluminat stradal',\n",
       "   'Mijloace de transport in comun',\n",
       "   'Casa Presei\\nRomexpo Iulius Development\\nSNSPA\\nManastirea Casin / Arc Triumf\\nScoala Europeana',\n",
       "   'Localizat în Nord, Zona Domenii-Expozitiei, Sector 1\\nArhitectura și Finisaje de Excepție\\nInovații Tehnologice\\nParcări Rezidenti Exclusiv Subterane\\nRecepții Disponibile 24/7\\nCentru de Fitness\\nSoluții Peisagistice Unicat\\nParc Natural Privat cu 10 Grădini Tematice\\nMobilier Urban Integrat\\nLocuri de Joacă Tematice pentru Copii\\nFără Trafic Auto în Interiorul Complexului\\nLounge Pentru Networking și Relaxare',\n",
       "   'Pretul include 3, locuri de parcare la S1, o boxa, buget pentru amenajare. ',\n",
       "   'Iunie 2020 '],\n",
       "  'price': '4.949.100 RON1.128.309 USD1.000.000 EUR + TVA'},\n",
       " {'Nr. camere': '5',\n",
       "  'Suprafaţă utilă': '206 mp',\n",
       "  'Suprafaţă utilă totală': '260 mp',\n",
       "  'Suprafaţă construită': '300 mp',\n",
       "  'Compartimentare': 'decomandat',\n",
       "  'Confort': 'lux',\n",
       "  'Etaj': 'Ultimele 2 etaje',\n",
       "  'Nr. bucătării': '1',\n",
       "  'Nr. băi': '3',\n",
       "  'An construcţie': '2020',\n",
       "  'Structură rezistenţă': 'beton',\n",
       "  'Tip imobil': 'bloc de apartamente',\n",
       "  'Regim înălţime': 'S+P',\n",
       "  'Nr. locuri parcare': '2',\n",
       "  'Nr. balcoane': '2',\n",
       "  'url': 'https://www.imobiliare.ro/vanzare-apartamente/bucuresti/domenii/apartament-de-vanzare-5-camere-X9TB00017',\n",
       "  'specifications': ['Utilitati generale: Curent, Apa, Canalizare',\n",
       "   'Sistem incalzire: Centrala imobil, Incalzire prin pardoseala',\n",
       "   'Acces internet: Fibra optica',\n",
       "   'Ferestre cu geam termopan: Aluminiu',\n",
       "   'Usi interior: Lemn',\n",
       "   'Usa intrare: Metal',\n",
       "   'Izolatii termice: Exterior',\n",
       "   'Podele: Marmura, Parchet',\n",
       "   'Alte spatii utile: Boxa la subsol',\n",
       "   'Contorizare: Contor caldura, Apometre',\n",
       "   'Mobilat: Nemobilat',\n",
       "   'Dotari imobil: Lift, Curte comuna, Videointerfon',\n",
       "   'Servicii imobil: Administrare, Paza, Supraveghere video',\n",
       "   'Amenajare strazi: Asfaltate',\n",
       "   'Iluminat stradal',\n",
       "   'Mijloace de transport in comun',\n",
       "   'Parcul Herastrau\\nPiata Presei\\nPiata Victoriei',\n",
       "   'Priveliște exclusivă. O reședință la etajele superioare ale unui imobil îți va permite să te bucuri de vederi exclusive asupra orașului. Fără clădiri care să limiteze panorama, ca să visezi până departe în zare, acolo unde linia orizontului unește cerul cu pământul. Ai zice că nu poți face asta în capitala noastră aglomerată. Te invităm la o vizionare în LUXURIA, să vezi că se poate.  \\n\\nMai puțin zgomot. Unul dintre trendurile în materie de ansambluri rezidențiale este integrarea a cât mai multe componente din natură pentru crearea unui spațiu propice relaxării.  \\n\\nÎn LUXURIA nu lipsesc zonele verzi: în mijlocul proiectului avem 9.650 mp spații verzi, din care și un parc interior cu 10 grădini tematice interioare. Zonele verzi mențin sănătatea și buna dispoziție și generează oxigen, iar copacii, care formează și o barieră fonică, favorizează un mediu liniștit. Este adevărat, în ansamblu zgomotul stradal nu este o problemă, iar în apartamentul de la ultimul etaj vei beneficia de liniște deplină. \\n\\nLumină naturală din plin. Etajele superioare ale unei clădiri rezidențiale sunt mult mai deschise spre a primi lumină solară naturală și aer curat pe tot parcursul zilei. Mai mult de atât, în LUXURIA, apartamentele au zone vitrate mult mai mari (geamul dormitorului ajunge la o deschidere generoasă h=2,35 m, iar încăperile au o înălțime de aproape 3m. Rezultatul? Mai multă lumină naturală în interiorul locuinței. \\n\\nStoc Limitat. Caracterul exclusivist al apartamentelor premium de la ultimul etaj se vede și în faptul că numărul lor este limitat. \\n\\nIntimitate sporită. În apartamentele de la etajele superioare vei avea parte de mai multă securitate și intimitate sporita.',\n",
       "   'La pretul afisat sunt incluse 3 locuri de parcare subterne, si o boxa.'],\n",
       "  'price': '4.949.100 RON1.128.309 USD1.000.000 EUR + TVA'},\n",
       " {'Nr. camere': '5',\n",
       "  'Suprafaţă utilă': '206 mp',\n",
       "  'Suprafaţă utilă totală': '260 mp',\n",
       "  'Suprafaţă construită': '300 mp',\n",
       "  'Confort': 'lux',\n",
       "  'Etaj': 'Ultimele 2 etaje / 12',\n",
       "  'Nr. bucătării': '1',\n",
       "  'Nr. băi': '3',\n",
       "  'An construcţie': '2020',\n",
       "  'Structură rezistenţă': 'beton',\n",
       "  'Tip imobil': 'bloc de apartamente',\n",
       "  'Regim înălţime': 'P+12E',\n",
       "  'Nr. balcoane': '2',\n",
       "  'url': 'https://www.imobiliare.ro/vanzare-apartamente/bucuresti/domenii/penthouse-de-vanzare-5-camere-X9TB00012',\n",
       "  'specifications': ['Utilitati generale: Curent, Apa, Canalizare, Gaz, CATV',\n",
       "   'Sistem incalzire: Incalzire prin pardoseala',\n",
       "   'Climatizare: Aer conditionat',\n",
       "   'Ferestre cu geam termopan: Aluminiu',\n",
       "   'Usa intrare: Metal',\n",
       "   'Contorizare: Contor caldura, Apometre',\n",
       "   'Dotari imobil: Spatii agrement, Gradina, Lift, Interfon, Videointerfon',\n",
       "   'Servicii imobil: Administrare, Paza, Supraveghere video',\n",
       "   'Amenajare strazi: Asfaltate'],\n",
       "  'price': '4.949.100 RON1.128.309 $1.000.000 € + TVA'},\n",
       " {'Nr. camere': '5',\n",
       "  'Suprafaţă utilă': '206 mp',\n",
       "  'Suprafaţă utilă totală': '260 mp',\n",
       "  'Suprafaţă construită': '300 mp',\n",
       "  'Confort': 'lux',\n",
       "  'Etaj': 'Ultimele 2 etaje / 12',\n",
       "  'Nr. bucătării': '1',\n",
       "  'Nr. băi': '3',\n",
       "  'An construcţie': '2020',\n",
       "  'Structură rezistenţă': 'beton',\n",
       "  'Tip imobil': 'bloc de apartamente',\n",
       "  'Regim înălţime': 'S+P+12E',\n",
       "  'Nr. locuri parcare': '2',\n",
       "  'Nr. balcoane': '2',\n",
       "  'url': 'https://www.imobiliare.ro/vanzare-apartamente/bucuresti/domenii/apartament-de-vanzare-5-camere-X9TB0001S',\n",
       "  'specifications': ['Utilitati generale: Curent, Apa, Canalizare, Gaz, CATV, Telefon',\n",
       "   'Sistem incalzire: Centrala imobil, Incalzire prin pardoseala',\n",
       "   'Acces internet: Fibra optica',\n",
       "   'Ferestre cu geam termopan: Aluminiu',\n",
       "   'Usi interior: Celulare',\n",
       "   'Usa intrare: Metal',\n",
       "   'Izolatii termice: Exterior, Interior',\n",
       "   'Podele: Marmura, Parchet',\n",
       "   'Pereti: Vopsea lavabila',\n",
       "   'Alte spatii utile: Boxa la subsol',\n",
       "   'Contorizare: Contor caldura, Apometre',\n",
       "   'Diverse: Senzor de fum, Sistem de alarma, Telecomanda poarta acces auto',\n",
       "   'Dotari imobil: Gradina, Lift, Curte, Videointerfon',\n",
       "   'Servicii imobil: Administrare, Paza, Supraveghere video',\n",
       "   'Amenajare strazi: Asfaltate',\n",
       "   'Iluminat stradal',\n",
       "   'Mijloace de transport in comun',\n",
       "   'Piata Presei Libere\\nParcul Herastrau\\nRomexpo\\nSNSPA',\n",
       "   'Facilitati pentru rezidentii Luxuria Domenii:\\n1. Siguranta: Acces securizat; acces in parcarile subterane prin actionare automata, cititoare optice/Supraveghere video prin servere de monitorizare, Paza 24/24h, Spatii ALA; videointerfon;\\n2. Confort si eleganta: Lounge pentru networking, Zona de Concierge si Receptie (24/24); Centru fitness & Gym; 10 gradini tematice, fantani, locuri de joaca;\\nCalitate si sustenabilitate: Primul ansamblu rezidential din Bucuresti in curs de certificare BREEAM (clasa energetica A, in categoria “cladiri verzi”- costuri reduse cu utilitatile/mentenanta, un nivel de iluminare optim).',\n",
       "   'Pretul include 3, locuri de parcare la S1, o boxa, buget pentru amenajare.'],\n",
       "  'price': '4.949.100 RON1.128.309 USD1.000.000 EUR + TVA'},\n",
       " {'Nr. camere': '5',\n",
       "  'Suprafaţă utilă': '205,88 mp',\n",
       "  'Suprafaţă utilă totală': '245.52 mp',\n",
       "  'Suprafaţă construită': '300 mp',\n",
       "  'Compartimentare': 'decomandat',\n",
       "  'Confort': 'lux',\n",
       "  'Etaj': 'Ultimele 2 etaje / 12',\n",
       "  'Nr. bucătării': '1',\n",
       "  'Nr. băi': '3',\n",
       "  'An construcţie': '2020',\n",
       "  'Structură rezistenţă': 'beton',\n",
       "  'Tip imobil': 'bloc de apartamente',\n",
       "  'Regim înălţime': 'S+P+12E',\n",
       "  'Nr. locuri parcare': '3 - Incluse în preț',\n",
       "  'Nr. balcoane': '1',\n",
       "  'url': 'https://www.imobiliare.ro/vanzare-apartamente/bucuresti/domenii/penthouse-de-vanzare-5-camere-X9TB0002D',\n",
       "  'specifications': ['Utilitati generale: Curent, Apa, Canalizare, Gaz, CATV, Telefon, Telefon international',\n",
       "   'Sistem incalzire: Centrala imobil, Incalzire prin pardoseala',\n",
       "   'Acces internet: Fibra optica',\n",
       "   'Ferestre cu geam termopan: Aluminiu',\n",
       "   'Usi interior: Lemn',\n",
       "   'Usa intrare: Metal',\n",
       "   'Izolatii termice: Exterior',\n",
       "   'Podele: Marmura, Parchet',\n",
       "   'Pereti: Vopsea lavabila',\n",
       "   'Alte spatii utile: Terasa, Boxa la subsol, Debara',\n",
       "   'Bucatarie: Mobilata',\n",
       "   'Contorizare: Contor caldura, Apometre',\n",
       "   'Mobilat: Lux',\n",
       "   'Diverse: Scara interioara',\n",
       "   'Dotari imobil: Gradina, Lift, Interfon, Curte comuna, Videointerfon',\n",
       "   'Servicii imobil: Administrare, Paza, Supraveghere video',\n",
       "   'Amenajare strazi: Betonate',\n",
       "   'Iluminat stradal',\n",
       "   'Mijloace de transport in comun',\n",
       "   'Clasa energetică: A',\n",
       "   'În preț sunt incluse 3 locuri de parcare subterane și 2 boxe.',\n",
       "   'imediata'],\n",
       "  'price': '4.949.100 RON1.128.309 USD1.000.000 EUR + TVA'},\n",
       " {'Nr. camere': '5',\n",
       "  'Suprafaţă utilă': '206 mp',\n",
       "  'Suprafaţă construită': '265 mp',\n",
       "  'Compartimentare': 'decomandat',\n",
       "  'Confort': '1',\n",
       "  'Etaj': 'Etaj 4 / 5',\n",
       "  'Nr. băi': '4',\n",
       "  'An construcţie': '2021 (finalizata)',\n",
       "  'Structură rezistenţă': 'beton',\n",
       "  'Tip imobil': 'bloc de apartamente',\n",
       "  'Regim înălţime': 'S+P+5E',\n",
       "  'Nr. locuri parcare': '2',\n",
       "  'url': 'https://www.imobiliare.ro/vanzare-apartamente/bucuresti/aviatorilor/apartament-de-vanzare-5-camere-X5CV1002J',\n",
       "  'specifications': ['Utilitati generale: Curent, Apa, CATV',\n",
       "   'Sistem incalzire: Centrala imobil',\n",
       "   'Climatizare: Ventiloconvectoare',\n",
       "   'Ferestre cu geam termopan: Aluminiu',\n",
       "   'Usi interior: Lemn',\n",
       "   'Usa intrare: Metal',\n",
       "   'Izolatii termice: Exterior',\n",
       "   'Podele: Parchet',\n",
       "   'Pereti: Var',\n",
       "   'Alte spatii utile: Terasa, WC Serviciu, Boxa la subsol',\n",
       "   'Contorizare: Contor caldura, Apometre',\n",
       "   'Dotari imobil: Lift, Videointerfon',\n",
       "   'Amenajare strazi: Asfaltate, Betonate',\n",
       "   'Iluminat stradal',\n",
       "   'Clasa energetică: A',\n",
       "   'Piata Charles de Gaulle, Blvd. Kiseleff',\n",
       "   'Comision: standard',\n",
       "   'Iunie 2021'],\n",
       "  'price': '4.948.700 RON1.125.805 USD1.000.000 EUR + TVA'}]"
      ]
     },
     "execution_count": 93,
     "metadata": {},
     "output_type": "execute_result"
    }
   ],
   "source": [
    "[listing for listing in dict_of_announcements if re.findall(r'\\d+\\.\\d+', listing['price'])[-1] == '1.000']"
   ]
  },
  {
   "cell_type": "code",
   "execution_count": null,
   "metadata": {},
   "outputs": [],
   "source": []
  }
 ],
 "metadata": {
  "kernelspec": {
   "display_name": "Python 3 (ipykernel)",
   "language": "python",
   "name": "python3"
  },
  "language_info": {
   "codemirror_mode": {
    "name": "ipython",
    "version": 3
   },
   "file_extension": ".py",
   "mimetype": "text/x-python",
   "name": "python",
   "nbconvert_exporter": "python",
   "pygments_lexer": "ipython3",
   "version": "3.9.7"
  }
 },
 "nbformat": 4,
 "nbformat_minor": 4
}
