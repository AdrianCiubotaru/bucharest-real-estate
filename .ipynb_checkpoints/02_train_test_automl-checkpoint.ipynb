{
 "cells": [
  {
   "cell_type": "markdown",
   "id": "747fa773",
   "metadata": {},
   "source": [
    "# AutoML"
   ]
  },
  {
   "cell_type": "code",
   "execution_count": 1,
   "id": "7b209799",
   "metadata": {},
   "outputs": [],
   "source": [
    "import sagemaker\n",
    "import boto3\n",
    "import os\n",
    "import numpy as np\n",
    "from sagemaker.automl.automl import AutoML\n",
    "\n",
    "\n",
    "sagemaker_session = sagemaker.Session()\n",
    "\n",
    "bucket = sagemaker_session.default_bucket()\n",
    "prefix = 'real-estate'\n",
    "\n",
    "role = sagemaker.get_execution_role()"
   ]
  },
  {
   "cell_type": "code",
   "execution_count": 2,
   "id": "2f1e4067",
   "metadata": {},
   "outputs": [],
   "source": [
    "data_dir = 'data'\n",
    "train_key = os.path.join(prefix, 'train/train.csv')\n",
    "test_key = os.path.join(prefix, 'test/test.csv')"
   ]
  },
  {
   "cell_type": "code",
   "execution_count": null,
   "id": "d6222907",
   "metadata": {},
   "outputs": [],
   "source": [
    "# boto3.Session().resource('s3').Bucket(bucket).Object(train_key).upload_file(os.path.join(data_dir, 'clean_data_november.csv'))\n",
    "# boto3.Session().resource('s3').Bucket(bucket).Object(test_key).upload_file(os.path.join(data_dir, 'clean_data_december.csv'))"
   ]
  },
  {
   "cell_type": "code",
   "execution_count": 29,
   "id": "ff2e10e0",
   "metadata": {},
   "outputs": [],
   "source": [
    "# automl_job = AutoML(\n",
    "#     role=role,\n",
    "#     target_attribute_name='eur_price',\n",
    "#     problem_type='Regression',\n",
    "#     job_objective={'MetricName': 'MSE'},\n",
    "#     max_candidates=250\n",
    "# )"
   ]
  },
  {
   "cell_type": "code",
   "execution_count": 47,
   "id": "5262cdd8",
   "metadata": {},
   "outputs": [],
   "source": [
    "# s3_input_train = 's3://{}/{}/train'.format(bucket, prefix)"
   ]
  },
  {
   "cell_type": "code",
   "execution_count": null,
   "id": "ce919d83",
   "metadata": {},
   "outputs": [
    {
     "name": "stdout",
     "output_type": "stream",
     "text": [
      "........."
     ]
    }
   ],
   "source": [
    "# automl_job.fit(inputs=s3_input_train)"
   ]
  },
  {
   "cell_type": "markdown",
   "id": "4a5c8bbe",
   "metadata": {},
   "source": [
    "# Deploying model"
   ]
  },
  {
   "cell_type": "code",
   "execution_count": 3,
   "id": "0ec2a625",
   "metadata": {},
   "outputs": [],
   "source": [
    "client = boto3.client('sagemaker')\n",
    "automl_job_name = client.list_auto_ml_jobs()['AutoMLJobSummaries'][0]['AutoMLJobName']\n",
    "automl_job = AutoML.attach(auto_ml_job_name=automl_job_name, sagemaker_session=sagemaker_session)"
   ]
  },
  {
   "cell_type": "markdown",
   "id": "16264f13",
   "metadata": {},
   "source": [
    "# Building Predictor"
   ]
  },
  {
   "cell_type": "code",
   "execution_count": 4,
   "id": "1ed10e9c",
   "metadata": {},
   "outputs": [],
   "source": [
    "from sagemaker.predictor import Predictor\n",
    "from sagemaker.serializers import CSVSerializer\n",
    "from sagemaker.deserializers import CSVDeserializer"
   ]
  },
  {
   "cell_type": "code",
   "execution_count": 5,
   "id": "b081efda",
   "metadata": {},
   "outputs": [
    {
     "name": "stdout",
     "output_type": "stream",
     "text": [
      "----------------------!"
     ]
    }
   ],
   "source": [
    "predictor = automl_job.deploy(\n",
    "    initial_instance_count=1,\n",
    "    instance_type='ml.m4.xlarge',\n",
    "    predictor_cls=Predictor,\n",
    "    serializer=CSVSerializer(),\n",
    "    deserializer=CSVDeserializer(),\n",
    ")"
   ]
  },
  {
   "cell_type": "markdown",
   "id": "2802b83a",
   "metadata": {},
   "source": [
    "# Testing the model"
   ]
  },
  {
   "cell_type": "code",
   "execution_count": 6,
   "id": "a6107c46",
   "metadata": {},
   "outputs": [],
   "source": [
    "import pandas as pd\n",
    "from sklearn.metrics import mean_squared_error\n",
    "from helpers import *"
   ]
  },
  {
   "cell_type": "code",
   "execution_count": 7,
   "id": "c2959e2c",
   "metadata": {},
   "outputs": [],
   "source": [
    "test_df = get_df_from_s3(bucket, test_key)\n",
    "train_df = get_df_from_s3(bucket, train_key)"
   ]
  },
  {
   "cell_type": "code",
   "execution_count": 8,
   "id": "af52021d",
   "metadata": {},
   "outputs": [],
   "source": [
    "predicted_prices = np.array([float(prediction) for prediction in predictor.predict(test_df.iloc[:, 1:].to_csv(sep=',', header=False, index=False))[0]])\n",
    "benchmark_prices = np.array(get_benchmark_prices_list(test_df, train_df))\n",
    "actual_prices = test_df['eur_price'].values"
   ]
  },
  {
   "cell_type": "code",
   "execution_count": 9,
   "id": "6bbe815c",
   "metadata": {},
   "outputs": [
    {
     "name": "stdout",
     "output_type": "stream",
     "text": [
      "The model has a MSE of 7050806698.9046135, while the benchmark only obtains a MSE of 45084664471.56901\n"
     ]
    }
   ],
   "source": [
    "if mean_squared_error(actual_prices, predicted_prices) < mean_squared_error(actual_prices, benchmark_prices):\n",
    "    print(f'The model has a MSE of {mean_squared_error(actual_prices, predicted_prices)}, while the benchmark only obtains a MSE of {mean_squared_error(actual_prices, benchmark_prices)}')"
   ]
  },
  {
   "cell_type": "code",
   "execution_count": 13,
   "id": "06dad36c",
   "metadata": {},
   "outputs": [],
   "source": [
    "predictor.delete_endpoint()"
   ]
  },
  {
   "cell_type": "code",
   "execution_count": null,
   "id": "804f0b21",
   "metadata": {},
   "outputs": [],
   "source": []
  },
  {
   "cell_type": "code",
   "execution_count": null,
   "id": "fd44f657",
   "metadata": {},
   "outputs": [],
   "source": []
  },
  {
   "cell_type": "code",
   "execution_count": 10,
   "id": "de4efbc0",
   "metadata": {},
   "outputs": [
    {
     "data": {
      "text/plain": [
       "'sagemaker-sklearn-automl-2022-03-06-14-36-38-031'"
      ]
     },
     "execution_count": 10,
     "metadata": {},
     "output_type": "execute_result"
    }
   ],
   "source": [
    "predictor.endpoint_name"
   ]
  },
  {
   "cell_type": "code",
   "execution_count": 9,
   "id": "7f31c3ca",
   "metadata": {},
   "outputs": [],
   "source": [
    "COLUMNS = [\n",
    "    'rooms', 'surface_area', 'bathrooms', 'partition_decomandat', \n",
    "    'partition_other', 'comfort_other', 'comfort_1', 'comfort_lux', \n",
    "    'max_floor', 'first_floor', 'last_floor', 'middle_floor',\n",
    "    'bathrooms_ratio', 'after_2010', 'before_1941', 'between_1941_1977',\n",
    "    'between_1977_1990', 'between_1990_2000', 'between_2000_2010',\n",
    "    'not_finished', 'not_started', 'concrete_building_structure',\n",
    "    'other_building_structure', 'unknown_building_structure',\n",
    "    'has_balconies', 'has_parking_spots_or_garages', 'has_floor_heating',\n",
    "    'only_district_heating', 'building_with_video_surveillance',\n",
    "    '1_mai_area', 'agronomie_area', 'aviatiei_area', 'aviatorilor_area',\n",
    "    'banu_manta_area', 'chibrit_area', 'domenii_area', 'dristor_area',\n",
    "    'stefan_cel_mare_area', 'titulescu_area', 'turda_area'\n",
    "]"
   ]
  },
  {
   "cell_type": "code",
   "execution_count": 1,
   "id": "e3331dee",
   "metadata": {},
   "outputs": [],
   "source": [
    "req = {'rooms': 4.0,\n",
    " 'surface_area': 178.4,\n",
    " 'bathrooms': 3.0,\n",
    " 'partition_decomandat': 1.0,\n",
    " 'partition_other': 0.0,\n",
    " 'comfort_other': 0.0,\n",
    " 'comfort_1': 1.0,\n",
    " 'comfort_lux': 0.0,\n",
    " 'max_floor': 12.0,\n",
    " 'first_floor': 0.0,\n",
    " 'last_floor': 0.0,\n",
    " 'middle_floor': 1.0,\n",
    " 'bathrooms_ratio': 0.75,\n",
    " 'after_2010': 1.0,\n",
    " 'before_1941': 0.0,\n",
    " 'between_1941_1977': 0.0,\n",
    " 'between_1977_1990': 0.0,\n",
    " 'between_1990_2000': 0.0,\n",
    " 'between_2000_2010': 0.0,\n",
    " 'not_finished': 0.0,\n",
    " 'not_started': 0.0,\n",
    " 'concrete_building_structure': 1.0,\n",
    " 'other_building_structure': 0.0,\n",
    " 'unknown_building_structure': 0.0,\n",
    " 'has_balconies': 0.0,\n",
    " 'has_parking_spots_or_garages': 0.0,\n",
    " 'has_floor_heating': 0.0,\n",
    " 'only_district_heating': 1.0,\n",
    " 'building_with_video_surveillance': 0.0,\n",
    " '1_mai_area': 0.0,\n",
    " 'agronomie_area': 0.0,\n",
    " 'aviatiei_area': 0.0,\n",
    " 'aviatorilor_area': 0.0,\n",
    " 'banu_manta_area': 0.0,\n",
    " 'chibrit_area': 0.0,\n",
    " 'domenii_area': 0.0,\n",
    " 'dristor_area': 0.0,\n",
    " 'stefan_cel_mare_area': 1.0,\n",
    " 'titulescu_area': 0.0,\n",
    " 'turda_area': 0.0}"
   ]
  },
  {
   "cell_type": "code",
   "execution_count": 13,
   "id": "14c940de",
   "metadata": {},
   "outputs": [
    {
     "data": {
      "text/plain": [
       "['523945.5625']"
      ]
     },
     "execution_count": 13,
     "metadata": {},
     "output_type": "execute_result"
    }
   ],
   "source": [
    "predictor.predict(pd.DataFrame(req, index=[0])[COLUMNS].to_csv(sep=',', header=False, index=False))[0]"
   ]
  },
  {
   "cell_type": "code",
   "execution_count": 14,
   "id": "e344983f",
   "metadata": {},
   "outputs": [],
   "source": [
    "runtime = boto3.Session().client('sagemaker-runtime')"
   ]
  },
  {
   "cell_type": "code",
   "execution_count": 15,
   "id": "f04c10b6",
   "metadata": {},
   "outputs": [],
   "source": [
    "df_apartment = pd.DataFrame(req, index=[0])[COLUMNS]"
   ]
  },
  {
   "cell_type": "code",
   "execution_count": 16,
   "id": "0fa6f6ae",
   "metadata": {},
   "outputs": [],
   "source": [
    "response = runtime.invoke_endpoint(\n",
    "    EndpointName=predictor.endpoint_name,\n",
    "    ContentType='text/csv',\n",
    "    Body=df_apartment.to_csv(sep=',', header=False, index=False)\n",
    ")"
   ]
  },
  {
   "cell_type": "code",
   "execution_count": 36,
   "id": "bededeb7",
   "metadata": {},
   "outputs": [
    {
     "data": {
      "text/plain": [
       "{'ResponseMetadata': {'RequestId': '75a19375-b158-426a-bcdb-f5855be6eb7f',\n",
       "  'HTTPStatusCode': 200,\n",
       "  'HTTPHeaders': {'x-amzn-requestid': '75a19375-b158-426a-bcdb-f5855be6eb7f',\n",
       "   'x-amzn-invoked-production-variant': 'AllTraffic',\n",
       "   'date': 'Wed, 09 Feb 2022 08:29:45 GMT',\n",
       "   'content-type': 'text/csv; charset=utf-8',\n",
       "   'content-length': '12'},\n",
       "  'RetryAttempts': 0},\n",
       " 'ContentType': 'text/csv; charset=utf-8',\n",
       " 'InvokedProductionVariant': 'AllTraffic',\n",
       " 'Body': <botocore.response.StreamingBody at 0x7f59862bff28>}"
      ]
     },
     "execution_count": 36,
     "metadata": {},
     "output_type": "execute_result"
    }
   ],
   "source": [
    "response"
   ]
  },
  {
   "cell_type": "code",
   "execution_count": 17,
   "id": "25903c22",
   "metadata": {},
   "outputs": [],
   "source": [
    "result = response['Body'].read().decode('utf-8')"
   ]
  },
  {
   "cell_type": "code",
   "execution_count": 18,
   "id": "fae7975d",
   "metadata": {},
   "outputs": [
    {
     "data": {
      "text/plain": [
       "'523946'"
      ]
     },
     "execution_count": 18,
     "metadata": {},
     "output_type": "execute_result"
    }
   ],
   "source": [
    "str(round(float(result)))"
   ]
  },
  {
   "cell_type": "code",
   "execution_count": 19,
   "id": "cdb07cf7",
   "metadata": {},
   "outputs": [
    {
     "data": {
      "text/html": [
       "<div>\n",
       "<style scoped>\n",
       "    .dataframe tbody tr th:only-of-type {\n",
       "        vertical-align: middle;\n",
       "    }\n",
       "\n",
       "    .dataframe tbody tr th {\n",
       "        vertical-align: top;\n",
       "    }\n",
       "\n",
       "    .dataframe thead th {\n",
       "        text-align: right;\n",
       "    }\n",
       "</style>\n",
       "<table border=\"1\" class=\"dataframe\">\n",
       "  <thead>\n",
       "    <tr style=\"text-align: right;\">\n",
       "      <th></th>\n",
       "      <th>rooms</th>\n",
       "      <th>surface_area</th>\n",
       "      <th>bathrooms</th>\n",
       "      <th>partition_decomandat</th>\n",
       "      <th>partition_other</th>\n",
       "      <th>comfort_other</th>\n",
       "      <th>comfort_1</th>\n",
       "      <th>comfort_lux</th>\n",
       "      <th>max_floor</th>\n",
       "      <th>first_floor</th>\n",
       "      <th>...</th>\n",
       "      <th>agronomie_area</th>\n",
       "      <th>aviatiei_area</th>\n",
       "      <th>aviatorilor_area</th>\n",
       "      <th>banu_manta_area</th>\n",
       "      <th>chibrit_area</th>\n",
       "      <th>domenii_area</th>\n",
       "      <th>dristor_area</th>\n",
       "      <th>stefan_cel_mare_area</th>\n",
       "      <th>titulescu_area</th>\n",
       "      <th>turda_area</th>\n",
       "    </tr>\n",
       "  </thead>\n",
       "  <tbody>\n",
       "    <tr>\n",
       "      <th>0</th>\n",
       "      <td>4.0</td>\n",
       "      <td>178.4</td>\n",
       "      <td>3.0</td>\n",
       "      <td>1.0</td>\n",
       "      <td>0.0</td>\n",
       "      <td>0.0</td>\n",
       "      <td>1.0</td>\n",
       "      <td>0.0</td>\n",
       "      <td>12.0</td>\n",
       "      <td>0.0</td>\n",
       "      <td>...</td>\n",
       "      <td>0.0</td>\n",
       "      <td>0.0</td>\n",
       "      <td>0.0</td>\n",
       "      <td>0.0</td>\n",
       "      <td>0.0</td>\n",
       "      <td>0.0</td>\n",
       "      <td>0.0</td>\n",
       "      <td>1.0</td>\n",
       "      <td>0.0</td>\n",
       "      <td>0.0</td>\n",
       "    </tr>\n",
       "  </tbody>\n",
       "</table>\n",
       "<p>1 rows × 40 columns</p>\n",
       "</div>"
      ],
      "text/plain": [
       "   rooms  surface_area  bathrooms  partition_decomandat  partition_other  \\\n",
       "0    4.0         178.4        3.0                   1.0              0.0   \n",
       "\n",
       "   comfort_other  comfort_1  comfort_lux  max_floor  first_floor  ...  \\\n",
       "0            0.0        1.0          0.0       12.0          0.0  ...   \n",
       "\n",
       "   agronomie_area  aviatiei_area  aviatorilor_area  banu_manta_area  \\\n",
       "0             0.0            0.0               0.0              0.0   \n",
       "\n",
       "   chibrit_area  domenii_area  dristor_area  stefan_cel_mare_area  \\\n",
       "0           0.0           0.0           0.0                   1.0   \n",
       "\n",
       "   titulescu_area  turda_area  \n",
       "0             0.0         0.0  \n",
       "\n",
       "[1 rows x 40 columns]"
      ]
     },
     "execution_count": 19,
     "metadata": {},
     "output_type": "execute_result"
    }
   ],
   "source": [
    "pd.DataFrame(req, index=[0])[COLUMNS]"
   ]
  },
  {
   "cell_type": "code",
   "execution_count": 25,
   "id": "f4623a01",
   "metadata": {},
   "outputs": [
    {
     "data": {
      "text/plain": [
       "dict_values([4.0, 178.4, 3.0, 1.0, 0.0, 0.0, 1.0, 0.0, 12.0, 0.0, 0.0, 1.0, 0.75, 1.0, 0.0, 0.0, 0.0, 0.0, 0.0, 0.0, 0.0, 1.0, 0.0, 0.0, 0.0, 0.0, 0.0, 1.0, 0.0, 0.0, 0.0, 0.0, 0.0, 0.0, 0.0, 0.0, 0.0, 1.0, 0.0, 0.0])"
      ]
     },
     "execution_count": 25,
     "metadata": {},
     "output_type": "execute_result"
    }
   ],
   "source": [
    "req.values()"
   ]
  },
  {
   "cell_type": "code",
   "execution_count": 27,
   "id": "42d47af1",
   "metadata": {},
   "outputs": [
    {
     "data": {
      "text/html": [
       "<div>\n",
       "<style scoped>\n",
       "    .dataframe tbody tr th:only-of-type {\n",
       "        vertical-align: middle;\n",
       "    }\n",
       "\n",
       "    .dataframe tbody tr th {\n",
       "        vertical-align: top;\n",
       "    }\n",
       "\n",
       "    .dataframe thead th {\n",
       "        text-align: right;\n",
       "    }\n",
       "</style>\n",
       "<table border=\"1\" class=\"dataframe\">\n",
       "  <thead>\n",
       "    <tr style=\"text-align: right;\">\n",
       "      <th></th>\n",
       "      <th>0</th>\n",
       "      <th>1</th>\n",
       "    </tr>\n",
       "  </thead>\n",
       "  <tbody>\n",
       "    <tr>\n",
       "      <th>0</th>\n",
       "      <td>rooms</td>\n",
       "      <td>4.00</td>\n",
       "    </tr>\n",
       "    <tr>\n",
       "      <th>1</th>\n",
       "      <td>surface_area</td>\n",
       "      <td>178.40</td>\n",
       "    </tr>\n",
       "    <tr>\n",
       "      <th>2</th>\n",
       "      <td>bathrooms</td>\n",
       "      <td>3.00</td>\n",
       "    </tr>\n",
       "    <tr>\n",
       "      <th>3</th>\n",
       "      <td>partition_decomandat</td>\n",
       "      <td>1.00</td>\n",
       "    </tr>\n",
       "    <tr>\n",
       "      <th>4</th>\n",
       "      <td>partition_other</td>\n",
       "      <td>0.00</td>\n",
       "    </tr>\n",
       "    <tr>\n",
       "      <th>5</th>\n",
       "      <td>comfort_other</td>\n",
       "      <td>0.00</td>\n",
       "    </tr>\n",
       "    <tr>\n",
       "      <th>6</th>\n",
       "      <td>comfort_1</td>\n",
       "      <td>1.00</td>\n",
       "    </tr>\n",
       "    <tr>\n",
       "      <th>7</th>\n",
       "      <td>comfort_lux</td>\n",
       "      <td>0.00</td>\n",
       "    </tr>\n",
       "    <tr>\n",
       "      <th>8</th>\n",
       "      <td>max_floor</td>\n",
       "      <td>12.00</td>\n",
       "    </tr>\n",
       "    <tr>\n",
       "      <th>9</th>\n",
       "      <td>first_floor</td>\n",
       "      <td>0.00</td>\n",
       "    </tr>\n",
       "    <tr>\n",
       "      <th>10</th>\n",
       "      <td>last_floor</td>\n",
       "      <td>0.00</td>\n",
       "    </tr>\n",
       "    <tr>\n",
       "      <th>11</th>\n",
       "      <td>middle_floor</td>\n",
       "      <td>1.00</td>\n",
       "    </tr>\n",
       "    <tr>\n",
       "      <th>12</th>\n",
       "      <td>bathrooms_ratio</td>\n",
       "      <td>0.75</td>\n",
       "    </tr>\n",
       "    <tr>\n",
       "      <th>13</th>\n",
       "      <td>after_2010</td>\n",
       "      <td>1.00</td>\n",
       "    </tr>\n",
       "    <tr>\n",
       "      <th>14</th>\n",
       "      <td>before_1941</td>\n",
       "      <td>0.00</td>\n",
       "    </tr>\n",
       "    <tr>\n",
       "      <th>15</th>\n",
       "      <td>between_1941_1977</td>\n",
       "      <td>0.00</td>\n",
       "    </tr>\n",
       "    <tr>\n",
       "      <th>16</th>\n",
       "      <td>between_1977_1990</td>\n",
       "      <td>0.00</td>\n",
       "    </tr>\n",
       "    <tr>\n",
       "      <th>17</th>\n",
       "      <td>between_1990_2000</td>\n",
       "      <td>0.00</td>\n",
       "    </tr>\n",
       "    <tr>\n",
       "      <th>18</th>\n",
       "      <td>between_2000_2010</td>\n",
       "      <td>0.00</td>\n",
       "    </tr>\n",
       "    <tr>\n",
       "      <th>19</th>\n",
       "      <td>not_finished</td>\n",
       "      <td>0.00</td>\n",
       "    </tr>\n",
       "    <tr>\n",
       "      <th>20</th>\n",
       "      <td>not_started</td>\n",
       "      <td>0.00</td>\n",
       "    </tr>\n",
       "    <tr>\n",
       "      <th>21</th>\n",
       "      <td>concrete_building_structure</td>\n",
       "      <td>1.00</td>\n",
       "    </tr>\n",
       "    <tr>\n",
       "      <th>22</th>\n",
       "      <td>other_building_structure</td>\n",
       "      <td>0.00</td>\n",
       "    </tr>\n",
       "    <tr>\n",
       "      <th>23</th>\n",
       "      <td>unknown_building_structure</td>\n",
       "      <td>0.00</td>\n",
       "    </tr>\n",
       "    <tr>\n",
       "      <th>24</th>\n",
       "      <td>has_balconies</td>\n",
       "      <td>0.00</td>\n",
       "    </tr>\n",
       "    <tr>\n",
       "      <th>25</th>\n",
       "      <td>has_parking_spots_or_garages</td>\n",
       "      <td>0.00</td>\n",
       "    </tr>\n",
       "    <tr>\n",
       "      <th>26</th>\n",
       "      <td>has_floor_heating</td>\n",
       "      <td>0.00</td>\n",
       "    </tr>\n",
       "    <tr>\n",
       "      <th>27</th>\n",
       "      <td>only_district_heating</td>\n",
       "      <td>1.00</td>\n",
       "    </tr>\n",
       "    <tr>\n",
       "      <th>28</th>\n",
       "      <td>building_with_video_surveillance</td>\n",
       "      <td>0.00</td>\n",
       "    </tr>\n",
       "    <tr>\n",
       "      <th>29</th>\n",
       "      <td>1_mai_area</td>\n",
       "      <td>0.00</td>\n",
       "    </tr>\n",
       "    <tr>\n",
       "      <th>30</th>\n",
       "      <td>agronomie_area</td>\n",
       "      <td>0.00</td>\n",
       "    </tr>\n",
       "    <tr>\n",
       "      <th>31</th>\n",
       "      <td>aviatiei_area</td>\n",
       "      <td>0.00</td>\n",
       "    </tr>\n",
       "    <tr>\n",
       "      <th>32</th>\n",
       "      <td>aviatorilor_area</td>\n",
       "      <td>0.00</td>\n",
       "    </tr>\n",
       "    <tr>\n",
       "      <th>33</th>\n",
       "      <td>banu_manta_area</td>\n",
       "      <td>0.00</td>\n",
       "    </tr>\n",
       "    <tr>\n",
       "      <th>34</th>\n",
       "      <td>chibrit_area</td>\n",
       "      <td>0.00</td>\n",
       "    </tr>\n",
       "    <tr>\n",
       "      <th>35</th>\n",
       "      <td>domenii_area</td>\n",
       "      <td>0.00</td>\n",
       "    </tr>\n",
       "    <tr>\n",
       "      <th>36</th>\n",
       "      <td>dristor_area</td>\n",
       "      <td>0.00</td>\n",
       "    </tr>\n",
       "    <tr>\n",
       "      <th>37</th>\n",
       "      <td>stefan_cel_mare_area</td>\n",
       "      <td>1.00</td>\n",
       "    </tr>\n",
       "    <tr>\n",
       "      <th>38</th>\n",
       "      <td>titulescu_area</td>\n",
       "      <td>0.00</td>\n",
       "    </tr>\n",
       "    <tr>\n",
       "      <th>39</th>\n",
       "      <td>turda_area</td>\n",
       "      <td>0.00</td>\n",
       "    </tr>\n",
       "  </tbody>\n",
       "</table>\n",
       "</div>"
      ],
      "text/plain": [
       "                                   0       1\n",
       "0                              rooms    4.00\n",
       "1                       surface_area  178.40\n",
       "2                          bathrooms    3.00\n",
       "3               partition_decomandat    1.00\n",
       "4                    partition_other    0.00\n",
       "5                      comfort_other    0.00\n",
       "6                          comfort_1    1.00\n",
       "7                        comfort_lux    0.00\n",
       "8                          max_floor   12.00\n",
       "9                        first_floor    0.00\n",
       "10                        last_floor    0.00\n",
       "11                      middle_floor    1.00\n",
       "12                   bathrooms_ratio    0.75\n",
       "13                        after_2010    1.00\n",
       "14                       before_1941    0.00\n",
       "15                 between_1941_1977    0.00\n",
       "16                 between_1977_1990    0.00\n",
       "17                 between_1990_2000    0.00\n",
       "18                 between_2000_2010    0.00\n",
       "19                      not_finished    0.00\n",
       "20                       not_started    0.00\n",
       "21       concrete_building_structure    1.00\n",
       "22          other_building_structure    0.00\n",
       "23        unknown_building_structure    0.00\n",
       "24                     has_balconies    0.00\n",
       "25      has_parking_spots_or_garages    0.00\n",
       "26                 has_floor_heating    0.00\n",
       "27             only_district_heating    1.00\n",
       "28  building_with_video_surveillance    0.00\n",
       "29                        1_mai_area    0.00\n",
       "30                    agronomie_area    0.00\n",
       "31                     aviatiei_area    0.00\n",
       "32                  aviatorilor_area    0.00\n",
       "33                   banu_manta_area    0.00\n",
       "34                      chibrit_area    0.00\n",
       "35                      domenii_area    0.00\n",
       "36                      dristor_area    0.00\n",
       "37              stefan_cel_mare_area    1.00\n",
       "38                    titulescu_area    0.00\n",
       "39                        turda_area    0.00"
      ]
     },
     "execution_count": 27,
     "metadata": {},
     "output_type": "execute_result"
    }
   ],
   "source": [
    "pd.DataFrame(req.items())"
   ]
  },
  {
   "cell_type": "code",
   "execution_count": null,
   "id": "9e931baf",
   "metadata": {},
   "outputs": [],
   "source": []
  }
 ],
 "metadata": {
  "kernelspec": {
   "display_name": "conda_python3",
   "language": "python",
   "name": "conda_python3"
  },
  "language_info": {
   "codemirror_mode": {
    "name": "ipython",
    "version": 3
   },
   "file_extension": ".py",
   "mimetype": "text/x-python",
   "name": "python",
   "nbconvert_exporter": "python",
   "pygments_lexer": "ipython3",
   "version": "3.6.13"
  }
 },
 "nbformat": 4,
 "nbformat_minor": 5
}
