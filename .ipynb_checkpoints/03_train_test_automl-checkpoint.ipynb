{
 "cells": [
  {
   "cell_type": "markdown",
   "id": "efbefc99",
   "metadata": {},
   "source": [
    "# AutoML"
   ]
  },
  {
   "cell_type": "code",
   "execution_count": 1,
   "id": "818bee76",
   "metadata": {},
   "outputs": [],
   "source": [
    "import sagemaker\n",
    "import boto3\n",
    "import os\n",
    "import numpy as np\n",
    "from sagemaker.automl.automl import AutoML\n",
    "from matplotlib import pyplot as plt\n",
    "\n",
    "\n",
    "sagemaker_session = sagemaker.Session()\n",
    "\n",
    "bucket = sagemaker_session.default_bucket()\n",
    "prefix = 'real-estate'\n",
    "\n",
    "role = sagemaker.get_execution_role()"
   ]
  },
  {
   "cell_type": "code",
   "execution_count": 2,
   "id": "f61b1c5c",
   "metadata": {},
   "outputs": [],
   "source": [
    "data_dir = 'data'\n",
    "train_key = os.path.join(prefix, 'train/train.csv')\n",
    "test_key = os.path.join(prefix, 'test/test.csv')"
   ]
  },
  {
   "cell_type": "code",
   "execution_count": null,
   "id": "aaa6fc70",
   "metadata": {},
   "outputs": [],
   "source": [
    "# boto3.Session().resource('s3').Bucket(bucket).Object(train_key).upload_file(os.path.join(data_dir, 'clean_data_november.csv'))\n",
    "# boto3.Session().resource('s3').Bucket(bucket).Object(test_key).upload_file(os.path.join(data_dir, 'clean_data_december.csv'))"
   ]
  },
  {
   "cell_type": "code",
   "execution_count": 29,
   "id": "2d22aa04",
   "metadata": {},
   "outputs": [],
   "source": [
    "# automl_job = AutoML(\n",
    "#     role=role,\n",
    "#     target_attribute_name='eur_price',\n",
    "#     problem_type='Regression',\n",
    "#     job_objective={'MetricName': 'MSE'},\n",
    "#     max_candidates=250\n",
    "# )"
   ]
  },
  {
   "cell_type": "code",
   "execution_count": 47,
   "id": "b7e19a46",
   "metadata": {},
   "outputs": [],
   "source": [
    "# s3_input_train = 's3://{}/{}/train'.format(bucket, prefix)"
   ]
  },
  {
   "cell_type": "code",
   "execution_count": null,
   "id": "85f97231",
   "metadata": {},
   "outputs": [
    {
     "name": "stdout",
     "output_type": "stream",
     "text": [
      "........."
     ]
    }
   ],
   "source": [
    "# automl_job.fit(inputs=s3_input_train)"
   ]
  },
  {
   "cell_type": "markdown",
   "id": "b8c5171c",
   "metadata": {},
   "source": [
    "# Deploying model"
   ]
  },
  {
   "cell_type": "code",
   "execution_count": 3,
   "id": "6f099f30",
   "metadata": {},
   "outputs": [],
   "source": [
    "client = boto3.client('sagemaker')\n",
    "automl_job_name = client.list_auto_ml_jobs()['AutoMLJobSummaries'][0]['AutoMLJobName']\n",
    "automl_job = AutoML.attach(auto_ml_job_name=automl_job_name, sagemaker_session=sagemaker_session)"
   ]
  },
  {
   "cell_type": "code",
   "execution_count": 4,
   "id": "27663509",
   "metadata": {},
   "outputs": [
    {
     "name": "stdout",
     "output_type": "stream",
     "text": [
      "The best model is a sagemaker-xgboost:1.2-2-cpu-py3 with a MSE of 9584455680.0\n"
     ]
    }
   ],
   "source": [
    "best_model_algo = automl_job.best_candidate()['InferenceContainers'][-1]['Image'].split('/')[-1]\n",
    "best_mse = automl_job.best_candidate()['FinalAutoMLJobObjectiveMetric']['Value']\n",
    "print(f'The best model is a {best_model_algo} with a MSE of {best_mse}')"
   ]
  },
  {
   "cell_type": "markdown",
   "id": "85dfdcaa",
   "metadata": {},
   "source": [
    "### Exploring all candidates"
   ]
  },
  {
   "cell_type": "code",
   "execution_count": 5,
   "id": "ef9d9773",
   "metadata": {},
   "outputs": [
    {
     "data": {
      "image/png": "[encoded data removed]",
      "text/plain": [
       "<Figure size 432x288 with 1 Axes>"
      ]
     },
     "metadata": {
      "needs_background": "light"
     },
     "output_type": "display_data"
    }
   ],
   "source": [
    "plt.plot(sorted([\n",
    "    val['FinalAutoMLJobObjectiveMetric']['Value']/1000000000000 for val \n",
    "    in automl_job.list_candidates(max_results=100, sort_order='Descending', sort_by='FinalObjectiveMetricValue')\n",
    "] + [\n",
    "    val['FinalAutoMLJobObjectiveMetric']['Value']/1000000000000 for val \n",
    "    in automl_job.list_candidates(max_results=100, sort_order='Ascending', sort_by='FinalObjectiveMetricValue')\n",
    "], reverse=True))\n",
    "plt.title('MSE in descending order (Trillions)', fontsize=15);"
   ]
  },
  {
   "cell_type": "code",
   "execution_count": 6,
   "id": "cd10d06b",
   "metadata": {},
   "outputs": [],
   "source": [
    "all_candidates = automl_job.list_candidates(max_results=100, sort_order='Descending', sort_by='FinalObjectiveMetricValue') + automl_job.list_candidates(max_results=100, sort_order='Ascending', sort_by='FinalObjectiveMetricValue')"
   ]
  },
  {
   "cell_type": "code",
   "execution_count": 7,
   "id": "00e50b54",
   "metadata": {},
   "outputs": [
    {
     "data": {
      "image/png": "[encoded data removed]",
      "text/plain": [
       "<Figure size 432x288 with 1 Axes>"
      ]
     },
     "metadata": {
      "needs_background": "light"
     },
     "output_type": "display_data"
    }
   ],
   "source": [
    "top_3_linear = sorted([val['FinalAutoMLJobObjectiveMetric']['Value']/1000000000000 for val in all_candidates if val['InferenceContainers'][-1]['Image'].split('/')[-1] == 'linear-learner:latest'], reverse=True)[-5:]\n",
    "top_3_mxnet = sorted([val['FinalAutoMLJobObjectiveMetric']['Value']/1000000000000 for val in all_candidates if val['InferenceContainers'][-1]['Image'].split('/')[-1] == 'mxnet-algorithms:inference-cpu'], reverse=True)[-5:]\n",
    "top_3_xgboost = sorted([val['FinalAutoMLJobObjectiveMetric']['Value']/1000000000000 for val in all_candidates if val['InferenceContainers'][-1]['Image'].split('/')[-1] == 'sagemaker-xgboost:1.2-2-cpu-py3'], reverse=True)[-5:]\n",
    "plt.plot(top_3_linear, label='linear')\n",
    "plt.plot(top_3_mxnet, label='mxnet')\n",
    "plt.plot(top_3_xgboost, label='xgboost')\n",
    "plt.title('MSE for top 5 runs (Trillions)')\n",
    "plt.xticks([0, 1, 2, 3, 4], [5, 4, 3, 2, 1])\n",
    "plt.legend();"
   ]
  },
  {
   "cell_type": "markdown",
   "id": "ff99e49b",
   "metadata": {},
   "source": [
    "# Building Predictor"
   ]
  },
  {
   "cell_type": "code",
   "execution_count": 8,
   "id": "c98b1e09",
   "metadata": {},
   "outputs": [],
   "source": [
    "from sagemaker.predictor import Predictor\n",
    "from sagemaker.serializers import CSVSerializer\n",
    "from sagemaker.deserializers import CSVDeserializer"
   ]
  },
  {
   "cell_type": "code",
   "execution_count": 9,
   "id": "ca5fad32",
   "metadata": {},
   "outputs": [
    {
     "name": "stdout",
     "output_type": "stream",
     "text": [
      "-----------------------!"
     ]
    }
   ],
   "source": [
    "predictor = automl_job.deploy(\n",
    "    initial_instance_count=1,\n",
    "    instance_type='ml.m4.xlarge',\n",
    "    predictor_cls=Predictor,\n",
    "    serializer=CSVSerializer(),\n",
    "    deserializer=CSVDeserializer(),\n",
    ")"
   ]
  },
  {
   "cell_type": "code",
   "execution_count": 37,
   "id": "1c758e9f",
   "metadata": {},
   "outputs": [
    {
     "data": {
      "text/plain": [
       "'sagemaker-sklearn-automl-2022-03-17-13-20-46-882'"
      ]
     },
     "execution_count": 37,
     "metadata": {},
     "output_type": "execute_result"
    }
   ],
   "source": [
    "predictor.endpoint_name"
   ]
  },
  {
   "cell_type": "markdown",
   "id": "79fbcb64",
   "metadata": {},
   "source": [
    "# Testing the model"
   ]
  },
  {
   "cell_type": "code",
   "execution_count": 10,
   "id": "60523c4c",
   "metadata": {},
   "outputs": [],
   "source": [
    "import pandas as pd\n",
    "from sklearn.metrics import mean_squared_error\n",
    "from helpers import *"
   ]
  },
  {
   "cell_type": "code",
   "execution_count": 11,
   "id": "da87916f",
   "metadata": {},
   "outputs": [],
   "source": [
    "test_df = get_df_from_s3(bucket, test_key)\n",
    "train_df = get_df_from_s3(bucket, train_key)"
   ]
  },
  {
   "cell_type": "code",
   "execution_count": 12,
   "id": "7ec8b6ec",
   "metadata": {},
   "outputs": [],
   "source": [
    "predicted_prices = np.array([float(prediction) for prediction in predictor.predict(test_df.iloc[:, 1:].to_csv(sep=',', header=False, index=False))[0]])\n",
    "benchmark_prices = np.array(get_benchmark_prices_list(test_df, train_df))\n",
    "actual_prices = test_df['eur_price'].values"
   ]
  },
  {
   "cell_type": "code",
   "execution_count": 13,
   "id": "8da3f4c4",
   "metadata": {},
   "outputs": [
    {
     "name": "stdout",
     "output_type": "stream",
     "text": [
      "The model has a RMSE of 83969.08179330187, while the benchmark only obtains a RMSE of 212331.49665456844.\n"
     ]
    }
   ],
   "source": [
    "if mean_squared_error(actual_prices, predicted_prices) < mean_squared_error(actual_prices, benchmark_prices):\n",
    "    print(f'The model has a RMSE of {mean_squared_error(actual_prices, predicted_prices, squared=False)}, while the benchmark only obtains a RMSE of {mean_squared_error(actual_prices, benchmark_prices, squared=False)}.')"
   ]
  },
  {
   "cell_type": "markdown",
   "id": "75336f44",
   "metadata": {},
   "source": [
    "The model can be consumed [here](https://quizzical-brattain-4ffddb.netlify.app/)."
   ]
  },
  {
   "cell_type": "code",
   "execution_count": 17,
   "id": "a52d4240",
   "metadata": {},
   "outputs": [],
   "source": [
    "# here are some values that can be used in the form to try it out\n",
    "\n",
    "# {\n",
    "#    \"surface_area\":50,\n",
    "#    \"rooms\":2,\n",
    "#    \"bathrooms\":2,\n",
    "#    \"max_floor\":4,\n",
    "#    \"comfort\":\"comfort_1\",\n",
    "#    \"floor_type\":\"first_floor\",\n",
    "#    \"building_age\":\"before_1941\",\n",
    "#    \"building_structure\":\"concrete_building_structure\",\n",
    "#    \"neighborhood\":\"1_mai_area\",\n",
    "#    \"decomandat\":False,\n",
    "#    \"has_balconies\":False,\n",
    "#    \"has_parking_spots_or_garages\":False,\n",
    "#    \"has_floor_heating\":False,\n",
    "#    \"only_district_heating\":False,\n",
    "#    \"building_with_video_surveillance\":False\n",
    "# }"
   ]
  },
  {
   "cell_type": "markdown",
   "id": "5476669b",
   "metadata": {},
   "source": [
    "### Evaluating the model vs the benchmark on new data"
   ]
  },
  {
   "cell_type": "code",
   "execution_count": 35,
   "id": "5e7dcc71",
   "metadata": {},
   "outputs": [
    {
     "data": {
      "image/png": "[encoded data removed]",
      "text/plain": [
       "<Figure size 432x288 with 1 Axes>"
      ]
     },
     "metadata": {
      "needs_background": "light"
     },
     "output_type": "display_data"
    }
   ],
   "source": [
    "plt.scatter(\n",
    "    test_df[test_df['eur_price'] < np.percentile(test_df['eur_price'], 99.5)]['eur_price'], \n",
    "    predicted_prices[test_df['eur_price'] < np.percentile(test_df['eur_price'], 99.5)], \n",
    "    alpha=0.75)\n",
    "plt.title('Predicted vs real prices EUR MM', fontsize=15);"
   ]
  },
  {
   "cell_type": "code",
   "execution_count": 36,
   "id": "6c251ea7",
   "metadata": {},
   "outputs": [
    {
     "data": {
      "image/png": "[encoded data removed]",
      "text/plain": [
       "<Figure size 432x288 with 1 Axes>"
      ]
     },
     "metadata": {
      "needs_background": "light"
     },
     "output_type": "display_data"
    }
   ],
   "source": [
    "plt.scatter(\n",
    "    test_df[test_df['eur_price'] < np.percentile(test_df['eur_price'], 99.5)]['eur_price'], \n",
    "    benchmark_prices[test_df['eur_price'] < np.percentile(test_df['eur_price'], 99.5)], \n",
    "    alpha=0.75)\n",
    "plt.title('Predicted vs benchmark prices EUR', fontsize=15);"
   ]
  },
  {
   "cell_type": "code",
   "execution_count": 13,
   "id": "87eb23fb",
   "metadata": {},
   "outputs": [],
   "source": [
    "# predictor.delete_endpoint()"
   ]
  },
  {
   "cell_type": "code",
   "execution_count": null,
   "id": "0c5d280e",
   "metadata": {},
   "outputs": [],
   "source": []
  }
 ],
 "metadata": {
  "kernelspec": {
   "display_name": "conda_python3",
   "language": "python",
   "name": "conda_python3"
  },
  "language_info": {
   "codemirror_mode": {
    "name": "ipython",
    "version": 3
   },
   "file_extension": ".py",
   "mimetype": "text/x-python",
   "name": "python",
   "nbconvert_exporter": "python",
   "pygments_lexer": "ipython3",
   "version": "3.6.13"
  }
 },
 "nbformat": 4,
 "nbformat_minor": 5
}
