{
 "cells": [
  {
   "cell_type": "code",
   "execution_count": 1,
   "id": "d43f71d6",
   "metadata": {},
   "outputs": [],
   "source": [
    "import re\n",
    "import os\n",
    "import scipy.stats\n",
    "import numpy as np\n",
    "import pandas as pd\n",
    "from tests import *\n",
    "from matplotlib import pyplot as plt\n",
    "from helpers import *"
   ]
  },
  {
   "cell_type": "markdown",
   "id": "8fa90140",
   "metadata": {},
   "source": [
    "# Reading Data"
   ]
  },
  {
   "cell_type": "code",
   "execution_count": 2,
   "id": "af1953e0",
   "metadata": {},
   "outputs": [],
   "source": [
    "dict_of_announcements = pd.read_pickle(r'parsed_announcements_november.pkl')\n",
    "df = pd.DataFrame(dict_of_announcements)"
   ]
  },
  {
   "cell_type": "markdown",
   "id": "98735bd3",
   "metadata": {},
   "source": [
    "# Exploring price"
   ]
  },
  {
   "cell_type": "code",
   "execution_count": 3,
   "id": "c779010b",
   "metadata": {},
   "outputs": [],
   "source": [
    "df = df.drop(df[df['price'].apply(lambda x: '/ lună' in x)].index).reset_index(drop=True)\n",
    "df['eur_price'] = df['price'].apply(lambda x: get_eur_price(x))\n",
    "df['eur_price'] = np.where(\n",
    "    (df['eur_price'] <= 140000) & (df['price'].apply(lambda x: 'TVA' in x)),\n",
    "    df['eur_price'] * 1.05,\n",
    "    np.where(\n",
    "        (df['eur_price'] > 140000) & (df['price'].apply(lambda x: 'TVA' in x)),\n",
    "        df['eur_price'] * 1.19,\n",
    "        df['eur_price']\n",
    "    )\n",
    ")"
   ]
  },
  {
   "cell_type": "markdown",
   "id": "5e4cc812",
   "metadata": {},
   "source": [
    "### Just as expected, the price follows a lognormal distribution, with most prices being concentrated around the median, and a few significantly more expensive properties"
   ]
  },
  {
   "cell_type": "code",
   "execution_count": 4,
   "id": "36362497",
   "metadata": {},
   "outputs": [
    {
     "data": {
      "image/png": "[encoded data removed]",
      "text/plain": [
       "<Figure size 432x288 with 1 Axes>"
      ]
     },
     "metadata": {
      "needs_background": "light"
     },
     "output_type": "display_data"
    }
   ],
   "source": [
    "plt.hist(df['eur_price'], bins=100)\n",
    "median_price = int(df['eur_price'].median())\n",
    "plt.axvline(median_price, color='red', label=f'Median price: EUR {int(median_price/1000)}K')\n",
    "plt.title('Price distribution', fontsize=15)\n",
    "plt.legend();"
   ]
  },
  {
   "cell_type": "code",
   "execution_count": 5,
   "id": "6c02a418",
   "metadata": {},
   "outputs": [],
   "source": [
    "original_cols = ['Nr. camere', 'Suprafaţă utilă', 'Compartimentare', 'Confort', 'Etaj', 'Nr. bucătării', 'Nr. băi', 'An construcţie', 'Structură rezistenţă', 'Tip imobil', 'Nr. balcoane', 'Nr. locuri parcare', 'Nr. garaje']\n",
    "new_cols = ['rooms', 'surface_area', 'partitioning_type', 'comfort_type', 'floors', 'kitchens', 'bathrooms', 'building_year', 'building_structure', 'building_type', 'balconies', 'parking_spots', 'garages']\n",
    "df.rename(columns={original_cols[i]: new_cols[i] for i in range(len(original_cols))}, inplace=True)"
   ]
  },
  {
   "cell_type": "markdown",
   "id": "9f2c6984",
   "metadata": {},
   "source": [
    "### Some fields are absolutely critical, and cannot be recreated if they are missing. Therefore, the only solution is to drop them"
   ]
  },
  {
   "cell_type": "code",
   "execution_count": 6,
   "id": "13026b73",
   "metadata": {},
   "outputs": [
    {
     "name": "stdout",
     "output_type": "stream",
     "text": [
      "There are 113 rows with critical missing data, roughly 4.2% of rows\n"
     ]
    }
   ],
   "source": [
    "faulty_rows = ((df['rooms'].isnull()) | \n",
    "    (df['surface_area'].isnull()) | \n",
    "    (df['building_year'].isnull()) |\n",
    "    (df['floors'].apply(lambda x: '/' not in x))).sum()\n",
    "print(f'There are {faulty_rows} rows with critical missing data, roughly {round(faulty_rows/len(df), 3)*100}% of rows')"
   ]
  },
  {
   "cell_type": "code",
   "execution_count": 7,
   "id": "abf834c1",
   "metadata": {},
   "outputs": [],
   "source": [
    "df.drop(df[\n",
    "    (df['rooms'].isnull()) | \n",
    "    (df['surface_area'].isnull()) | \n",
    "    (df['building_year'].isnull()) |\n",
    "    (df['floors'].apply(lambda x: '/' not in x))\n",
    "].index, inplace=True)\n",
    "df['rooms'] = df['rooms'].astype(int)\n",
    "df['surface_area'] = df['surface_area'].apply(lambda x: x.split(' ')[0].strip().replace(',', '.')).astype(float)\n",
    "df.reset_index(drop=True, inplace=True)"
   ]
  },
  {
   "cell_type": "markdown",
   "id": "a1ce2582",
   "metadata": {},
   "source": [
    "### Partition Type"
   ]
  },
  {
   "cell_type": "code",
   "execution_count": 8,
   "id": "4398fa3f",
   "metadata": {},
   "outputs": [
    {
     "data": {
      "text/plain": [
       "decomandat        1580\n",
       "semidecomandat     867\n",
       "NaN                 65\n",
       "nedecomandat        20\n",
       "circular            14\n",
       "Name: partitioning_type, dtype: int64"
      ]
     },
     "execution_count": 8,
     "metadata": {},
     "output_type": "execute_result"
    }
   ],
   "source": [
    "df['partitioning_type'].value_counts(dropna=False)"
   ]
  },
  {
   "cell_type": "code",
   "execution_count": 9,
   "id": "062e9b32",
   "metadata": {},
   "outputs": [
    {
     "data": {
      "text/plain": [
       "decomandat        0.620581\n",
       "semidecomandat    0.340534\n",
       "NaN               0.025530\n",
       "nedecomandat      0.007855\n",
       "circular          0.005499\n",
       "Name: partitioning_type, dtype: float64"
      ]
     },
     "execution_count": 9,
     "metadata": {},
     "output_type": "execute_result"
    }
   ],
   "source": [
    "df['partitioning_type'].value_counts(dropna=False)/len(df)"
   ]
  },
  {
   "cell_type": "code",
   "execution_count": 10,
   "id": "ecba9047",
   "metadata": {},
   "outputs": [],
   "source": [
    "df['partition_decomandat'] = (df['partitioning_type'] == 'decomandat').astype(int)\n",
    "df['partition_other'] = (df['partitioning_type'] != 'decomandat').astype(int)"
   ]
  },
  {
   "cell_type": "code",
   "execution_count": 11,
   "id": "dd7d5639",
   "metadata": {},
   "outputs": [
    {
     "data": {
      "image/png": "[encoded data removed]",
      "text/plain": [
       "<Figure size 432x288 with 1 Axes>"
      ]
     },
     "metadata": {
      "needs_background": "light"
     },
     "output_type": "display_data"
    }
   ],
   "source": [
    "percentile_95_price = np.percentile(df['eur_price'], 95)\n",
    "data = [\n",
    "    df[\n",
    "        (df['partition_decomandat'] == 1) & \n",
    "        (df['eur_price'] < percentile_95_price)\n",
    "    ]['eur_price'], \n",
    "    df[\n",
    "        (df['partition_other'] == 1) & \n",
    "        (df['eur_price'] < percentile_95_price)\n",
    "    ]['eur_price']\n",
    "]\n",
    "fig7, ax7 = plt.subplots()\n",
    "ax7.set_title('Price range by partition type', fontsize=15)\n",
    "ax7.boxplot(data)\n",
    "plt.xticks([1, 2] , ['partition_decomandat', 'partition_other'])\n",
    "plt.show();"
   ]
  },
  {
   "cell_type": "markdown",
   "id": "ed446b2c",
   "metadata": {},
   "source": [
    "### Comfort Type"
   ]
  },
  {
   "cell_type": "code",
   "execution_count": 12,
   "id": "77cebed3",
   "metadata": {},
   "outputs": [
    {
     "data": {
      "text/plain": [
       "1      0.686960\n",
       "lux    0.263551\n",
       "NaN    0.037706\n",
       "2      0.009427\n",
       "3      0.002357\n",
       "Name: comfort_type, dtype: float64"
      ]
     },
     "execution_count": 12,
     "metadata": {},
     "output_type": "execute_result"
    }
   ],
   "source": [
    "df['comfort_type'].value_counts(dropna=False) / len(df)"
   ]
  },
  {
   "cell_type": "code",
   "execution_count": 13,
   "id": "f2778a62",
   "metadata": {},
   "outputs": [],
   "source": [
    "df['comfort_other'] = (~df['comfort_type'].isin(['1', 'lux'])).astype(int)\n",
    "df['comfort_1'] = (df['comfort_type'] == '1').astype(int)\n",
    "df['comfort_lux'] = (df['comfort_type'] == 'lux').astype(int)"
   ]
  },
  {
   "cell_type": "code",
   "execution_count": 14,
   "id": "c9791a84",
   "metadata": {},
   "outputs": [
    {
     "data": {
      "image/png": "[encoded data removed]",
      "text/plain": [
       "<Figure size 432x288 with 1 Axes>"
      ]
     },
     "metadata": {
      "needs_background": "light"
     },
     "output_type": "display_data"
    }
   ],
   "source": [
    "percentile_95_price = np.percentile(df['eur_price'], 95)\n",
    "data = [\n",
    "    df[\n",
    "        (df['comfort_other'] == 1) & \n",
    "        (df['eur_price'] < percentile_95_price)\n",
    "    ]['eur_price'], \n",
    "    df[\n",
    "        (df['comfort_1'] == 1) & \n",
    "        (df['eur_price'] < percentile_95_price)\n",
    "    ]['eur_price'],\n",
    "    df[\n",
    "        (df['comfort_lux'] == 1) & \n",
    "        (df['eur_price'] < percentile_95_price)\n",
    "    ]['eur_price']\n",
    "]\n",
    "fig7, ax7 = plt.subplots()\n",
    "ax7.set_title('Price range by comfort type', fontsize=15)\n",
    "ax7.boxplot(data)\n",
    "plt.xticks([1, 2, 3] , ['comfort_other', 'comfort_1', 'comfort_lux'])\n",
    "plt.show();"
   ]
  },
  {
   "cell_type": "markdown",
   "id": "84e4ca61",
   "metadata": {},
   "source": [
    "### Apartment floors"
   ]
  },
  {
   "cell_type": "code",
   "execution_count": 15,
   "id": "3327d3b8",
   "metadata": {},
   "outputs": [],
   "source": [
    "floor_series = df['floors'].apply(lambda x: x.split('/')[0]).reset_index(drop=True)\n",
    "max_floor_series = df['floors'].apply(lambda x: x.split('/')[-1].strip()).astype(int).reset_index(drop=True)\n",
    "floor_series = pd.Series(\n",
    "        np.where(\n",
    "        floor_series.apply(lambda x: any([val in x.lower() for val in ['parter', 'demi']])),\n",
    "        '0',\n",
    "        np.where(\n",
    "            floor_series.apply(lambda x: any([val in x.lower() for val in ['ultim', 'mansard']])),\n",
    "            '99',\n",
    "            floor_series\n",
    "        )\n",
    "    )\n",
    ").apply(lambda x: re.findall(r'\\d+', x)[0]).astype(int)\n",
    "df['floor'] = np.where(\n",
    "    floor_series == 0,\n",
    "    'first_floor',\n",
    "    np.where(\n",
    "        floor_series >= max_floor_series,\n",
    "        'last_floor',\n",
    "        'middle_floor'\n",
    "    )\n",
    ")\n",
    "df['max_floor'] = max_floor_series\n",
    "df = pd.concat([df, pd.get_dummies(df['floor'].astype(pd.CategoricalDtype(categories=FLOOR_CATEGORIES)))], axis=1)"
   ]
  },
  {
   "cell_type": "code",
   "execution_count": 38,
   "id": "cec3e569",
   "metadata": {},
   "outputs": [
    {
     "data": {
      "image/png": "[encoded data removed]",
      "text/plain": [
       "<Figure size 432x288 with 1 Axes>"
      ]
     },
     "metadata": {
      "needs_background": "light"
     },
     "output_type": "display_data"
    }
   ],
   "source": [
    "max_floors_value_counts = df['max_floor'].apply(lambda x: str(x) if x <= 10 else '10+').value_counts().reset_index()\n",
    "max_floor_types = [str(x) for x in range(1, 11)] + ['10+']\n",
    "max_floor_counts = [max_floors_value_counts[max_floors_value_counts['index'] == val]['max_floor'].values[0] for val in max_floor_types]\n",
    "plt.bar(max_floor_types, max_floor_counts)\n",
    "plt.title('Max floor distribution');"
   ]
  },
  {
   "cell_type": "code",
   "execution_count": 44,
   "id": "6aa00837",
   "metadata": {},
   "outputs": [
    {
     "data": {
      "image/png": "[encoded data removed]",
      "text/plain": [
       "<Figure size 432x288 with 1 Axes>"
      ]
     },
     "metadata": {
      "needs_background": "light"
     },
     "output_type": "display_data"
    }
   ],
   "source": [
    "percentile_95_price = np.percentile(df['eur_price'], 95)\n",
    "data = [\n",
    "    df[\n",
    "        (df['middle_floor'] == 1) & \n",
    "        (df['eur_price'] < percentile_95_price)\n",
    "    ]['eur_price'], \n",
    "    df[\n",
    "        (df['last_floor'] == 1) & \n",
    "        (df['eur_price'] < percentile_95_price)\n",
    "    ]['eur_price'],\n",
    "    df[\n",
    "        (df['first_floor'] == 1) & \n",
    "        (df['eur_price'] < percentile_95_price)\n",
    "    ]['eur_price']\n",
    "]\n",
    "fig7, ax7 = plt.subplots()\n",
    "ax7.set_title('Price range by floor type', fontsize=15)\n",
    "ax7.boxplot(data)\n",
    "plt.xticks([1, 2, 3] , ['middle_floor', 'last_floor', 'first_floor'])\n",
    "plt.show();"
   ]
  },
  {
   "cell_type": "markdown",
   "id": "06db11a5",
   "metadata": {},
   "source": [
    "### Building year"
   ]
  },
  {
   "cell_type": "code",
   "execution_count": 55,
   "id": "353cafef",
   "metadata": {},
   "outputs": [],
   "source": [
    "df['building_year'] = df['building_year'].apply(lambda x: 'not_finished' if 'constructie' in x else x)\n",
    "df['building_year'] = df['building_year'].apply(lambda x: 'not_started' if 'proiect' in x else x)\n",
    "df['building_year'] = df['building_year'].apply(lambda x: x.replace('(finalizata)', '').strip())\n",
    "df['building_year'] = df['building_year'].apply(lambda x: translate_building_year_values(x))\n",
    "df['building_year'] = df['building_year'].apply(lambda x: get_building_year_category(x))\n",
    "df = pd.concat([df, pd.get_dummies(df['building_year'].astype(pd.CategoricalDtype(categories=BUILDING_PERIODS)))], axis=1)"
   ]
  },
  {
   "cell_type": "code",
   "execution_count": 61,
   "id": "08cdde7a",
   "metadata": {},
   "outputs": [
    {
     "data": {
      "image/png": "[encoded data removed]",
      "text/plain": [
       "<Figure size 432x288 with 1 Axes>"
      ]
     },
     "metadata": {
      "needs_background": "light"
     },
     "output_type": "display_data"
    }
   ],
   "source": [
    "building_year_value_counts = df['building_year'].value_counts().reset_index()\n",
    "building_period_counts = [building_year_value_counts[building_year_value_counts['index'] == val]['building_year'].values[0] for val in BUILDING_PERIODS]\n",
    "plt.bar(BUILDING_PERIODS, building_period_counts)\n",
    "plt.xticks(range(len(BUILDING_PERIODS)), BUILDING_PERIODS, rotation=45)\n",
    "plt.title('Building period distribution');"
   ]
  },
  {
   "cell_type": "code",
   "execution_count": 62,
   "id": "f234ef7d",
   "metadata": {},
   "outputs": [
    {
     "data": {
      "text/plain": [
       "['before_1941',\n",
       " 'between_1941_1977',\n",
       " 'between_1977_1990',\n",
       " 'between_1990_2000',\n",
       " 'between_2000_2010',\n",
       " 'after_2010',\n",
       " 'not_finished',\n",
       " 'not_started']"
      ]
     },
     "execution_count": 62,
     "metadata": {},
     "output_type": "execute_result"
    }
   ],
   "source": [
    "BUILDING_PERIODS"
   ]
  },
  {
   "cell_type": "code",
   "execution_count": 68,
   "id": "d62f1cef",
   "metadata": {},
   "outputs": [
    {
     "data": {
      "image/png": "[encoded data removed]",
      "text/plain": [
       "<Figure size 432x288 with 1 Axes>"
      ]
     },
     "metadata": {
      "needs_background": "light"
     },
     "output_type": "display_data"
    }
   ],
   "source": [
    "percentile_95_price = np.percentile(df['eur_price'], 95)\n",
    "data = [\n",
    "    df[\n",
    "        (df['before_1941'] == 1) & \n",
    "        (df['eur_price'] < percentile_95_price)\n",
    "    ]['eur_price'], \n",
    "    df[\n",
    "        (df['between_1941_1977'] == 1) & \n",
    "        (df['eur_price'] < percentile_95_price)\n",
    "    ]['eur_price'],\n",
    "    df[\n",
    "        (df['between_1977_1990'] == 1) & \n",
    "        (df['eur_price'] < percentile_95_price)\n",
    "    ]['eur_price'],\n",
    "    df[\n",
    "        (df['between_1990_2000'] == 1) & \n",
    "        (df['eur_price'] < percentile_95_price)\n",
    "    ]['eur_price'],\n",
    "    df[\n",
    "        (df['between_2000_2010'] == 1) & \n",
    "        (df['eur_price'] < percentile_95_price)\n",
    "    ]['eur_price'],\n",
    "    df[\n",
    "        (df['after_2010'] == 1) & \n",
    "        (df['eur_price'] < percentile_95_price)\n",
    "    ]['eur_price'],\n",
    "    df[\n",
    "        (df['not_finished'] == 1) & \n",
    "        (df['eur_price'] < percentile_95_price)\n",
    "    ]['eur_price'],\n",
    "    df[\n",
    "        (df['not_started'] == 1) & \n",
    "        (df['eur_price'] < percentile_95_price)\n",
    "    ]['eur_price']\n",
    "]\n",
    "fig7, ax7 = plt.subplots()\n",
    "ax7.set_title('Price range by building period', fontsize=15)\n",
    "ax7.boxplot(data)\n",
    "plt.xticks([1, 2, 3, 4, 5, 6, 7, 8] , BUILDING_PERIODS, rotation=45)\n",
    "plt.show();"
   ]
  }
 ],
 "metadata": {
  "kernelspec": {
   "display_name": "conda_python3",
   "language": "python",
   "name": "conda_python3"
  },
  "language_info": {
   "codemirror_mode": {
    "name": "ipython",
    "version": 3
   },
   "file_extension": ".py",
   "mimetype": "text/x-python",
   "name": "python",
   "nbconvert_exporter": "python",
   "pygments_lexer": "ipython3",
   "version": "3.6.13"
  }
 },
 "nbformat": 4,
 "nbformat_minor": 5
}
