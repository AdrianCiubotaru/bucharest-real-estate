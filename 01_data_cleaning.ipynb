{
 "cells": [
  {
   "cell_type": "code",
   "execution_count": 1,
   "metadata": {},
   "outputs": [],
   "source": [
    "import pandas as pd\n",
    "import numpy as np\n",
    "import re\n",
    "from tests import *\n",
    "from matplotlib import pyplot as plt\n",
    "import scipy.stats\n",
    "from helpers import get_eur_price, translate_building_year_values, get_building_year_category"
   ]
  },
  {
   "cell_type": "markdown",
   "metadata": {},
   "source": [
    "# Reading Data"
   ]
  },
  {
   "cell_type": "code",
   "execution_count": 2,
   "metadata": {},
   "outputs": [],
   "source": [
    "dict_of_announcements = pd.read_pickle(r'parsed_announcements.pkl')\n",
    "df = pd.DataFrame(dict_of_announcements)"
   ]
  },
  {
   "cell_type": "markdown",
   "metadata": {
    "tags": []
   },
   "source": [
    "# Creating the dependant variabile\n",
    "- removing listings meant as rentals\n",
    "- standardizing the prices:\n",
    "    - using the same currency (EUR)\n",
    "    - adding the VAT where necessary (5% for properties under 140000€ & 19% for properties over that)"
   ]
  },
  {
   "cell_type": "code",
   "execution_count": 3,
   "metadata": {},
   "outputs": [],
   "source": [
    "df = df.drop(df[df['price'].apply(lambda x: '/ lună' in x)].index).reset_index(drop=True)\n",
    "df['eur_price'] = df['price'].apply(lambda x: get_eur_price(x))\n",
    "df['eur_price'] = np.where(\n",
    "    (df['eur_price'] <= 140000) & (df['price'].apply(lambda x: 'TVA' in x)),\n",
    "    df['eur_price'] * 1.05,\n",
    "    np.where(\n",
    "        (df['eur_price'] > 140000) & (df['price'].apply(lambda x: 'TVA' in x)),\n",
    "        df['eur_price'] * 1.19,\n",
    "        df['eur_price']\n",
    "    )\n",
    ")"
   ]
  },
  {
   "cell_type": "code",
   "execution_count": 4,
   "metadata": {},
   "outputs": [
    {
     "name": "stdout",
     "output_type": "stream",
     "text": [
      "Tests passed!\n",
      "Tests passed!\n"
     ]
    }
   ],
   "source": [
    "test_rent_removed(df)\n",
    "test_price_values(df)"
   ]
  },
  {
   "cell_type": "markdown",
   "metadata": {},
   "source": [
    "# Creating independent variables"
   ]
  },
  {
   "cell_type": "markdown",
   "metadata": {},
   "source": [
    "### Renaming columns\n",
    "- translating from Romanian to English\n",
    "- using a pythonic convention"
   ]
  },
  {
   "cell_type": "code",
   "execution_count": 5,
   "metadata": {},
   "outputs": [],
   "source": [
    "original_cols = ['Nr. camere', 'Suprafaţă utilă', 'Compartimentare', 'Confort', 'Etaj', 'Nr. bucătării', 'Nr. băi', 'An construcţie', 'Structură rezistenţă', 'Tip imobil', 'Nr. balcoane', 'Nr. locuri parcare', 'Nr. garaje']\n",
    "new_cols = ['rooms', 'surface_area', 'partitioning_type', 'comfort_type', 'floors', 'kitchens', 'bathrooms', 'building_year', 'building_structure', 'building_type', 'balconies', 'parking_spots', 'garages']\n",
    "df.rename(columns={original_cols[i]: new_cols[i] for i in range(len(original_cols))}, inplace=True)"
   ]
  },
  {
   "cell_type": "markdown",
   "metadata": {},
   "source": [
    "### Cleaning critical columns\n",
    "- dropping null/invalid values\n",
    "- changing to a numeric data type"
   ]
  },
  {
   "cell_type": "code",
   "execution_count": 6,
   "metadata": {},
   "outputs": [],
   "source": [
    "df.drop(df[\n",
    "    (df['rooms'].isnull()) | \n",
    "    (df['surface_area'].isnull()) | \n",
    "    (df['building_year'].isnull()) |\n",
    "    (df['floors'].apply(lambda x: '/' not in x))\n",
    "].index, inplace=True)\n",
    "df['rooms'] = df['rooms'].astype(int)\n",
    "df['surface_area'] = df['surface_area'].apply(lambda x: x.split(' ')[0].strip().replace(',', '.')).astype(float)"
   ]
  },
  {
   "cell_type": "markdown",
   "metadata": {},
   "source": [
    "# TODO creeaza TESTE pentru: \n",
    "- valori nule\n",
    "- valori acceptate in coloane"
   ]
  },
  {
   "cell_type": "markdown",
   "metadata": {},
   "source": [
    "### Transforming partinion_type\n",
    "The most common value (\"decomandat\") is by far the most numerous. To keep things simple two columns will be created:\n",
    "- **partition_decomandat**\n",
    "- **partition_other**"
   ]
  },
  {
   "cell_type": "code",
   "execution_count": 7,
   "metadata": {},
   "outputs": [
    {
     "data": {
      "text/plain": [
       "decomandat        1580\n",
       "semidecomandat     867\n",
       "NaN                 65\n",
       "nedecomandat        20\n",
       "circular            14\n",
       "Name: partitioning_type, dtype: int64"
      ]
     },
     "execution_count": 7,
     "metadata": {},
     "output_type": "execute_result"
    }
   ],
   "source": [
    "df['partitioning_type'].value_counts(dropna=False)"
   ]
  },
  {
   "cell_type": "code",
   "execution_count": 8,
   "metadata": {},
   "outputs": [],
   "source": [
    "df['partition_decomandat'] = (df['partitioning_type'] == 'decomandat').astype(int)\n",
    "df['partition_other'] = (df['partitioning_type'] != 'decomandat').astype(int)"
   ]
  },
  {
   "cell_type": "markdown",
   "metadata": {},
   "source": [
    "### Transforming comfort_type\n",
    "Keeping the following values:\n",
    "- comfort_1\n",
    "- lux\n",
    "- comfort_other"
   ]
  },
  {
   "cell_type": "code",
   "execution_count": 9,
   "metadata": {},
   "outputs": [
    {
     "data": {
      "text/plain": [
       "1      1749\n",
       "lux     671\n",
       "NaN      96\n",
       "2        24\n",
       "3         6\n",
       "Name: comfort_type, dtype: int64"
      ]
     },
     "execution_count": 9,
     "metadata": {},
     "output_type": "execute_result"
    }
   ],
   "source": [
    "df['comfort_type'].value_counts(dropna=False)"
   ]
  },
  {
   "cell_type": "code",
   "execution_count": 10,
   "metadata": {},
   "outputs": [],
   "source": [
    "df['comfort_other'] = (~df['comfort_type'].isin(['1', 'lux'])).astype(int)\n",
    "df['comfort_1'] = (df['comfort_type'] == '1').astype(int)\n",
    "df['comfort_lux'] = (df['comfort_type'] == 'lux').astype(int)"
   ]
  },
  {
   "cell_type": "markdown",
   "metadata": {},
   "source": [
    "### Transforming apartment floor intro dummies. Final values: first_floor, last_floor, other\n",
    "- splitting the x/y values into floor & max_floor\n",
    "- comparing floor with max_floor to get values for dummies\n",
    "- creating dummies"
   ]
  },
  {
   "cell_type": "code",
   "execution_count": 11,
   "metadata": {},
   "outputs": [],
   "source": [
    "floor_series = df['floors'].apply(lambda x: x.split('/')[0]).reset_index(drop=True)\n",
    "max_floor_series = df['floors'].apply(lambda x: x.split('/')[-1].strip()).astype(int).reset_index(drop=True)\n",
    "floor_series = pd.Series(\n",
    "        np.where(\n",
    "        floor_series.apply(lambda x: any([val in x.lower() for val in ['parter', 'demi']])),\n",
    "        '0',\n",
    "        np.where(\n",
    "            floor_series.apply(lambda x: any([val in x.lower() for val in ['ultim', 'mansard']])),\n",
    "            '99',\n",
    "            floor_series\n",
    "        )\n",
    "    )\n",
    ").apply(lambda x: re.findall(r'\\d+', x)[0]).astype(int)\n",
    "df['floor'] = np.where(\n",
    "    floor_series == 0,\n",
    "    'first_floor',\n",
    "    np.where(\n",
    "        floor_series >= max_floor_series,\n",
    "        'last_floor',\n",
    "        'middle_floor'\n",
    "    )\n",
    ")\n",
    "df['max_floor'] = max_floor_series\n",
    "df = pd.concat([df, pd.get_dummies(df['floor'])], axis=1)"
   ]
  },
  {
   "cell_type": "markdown",
   "metadata": {},
   "source": [
    "### Transforming bathrooms\n",
    "- replacing NaNs with the most common value, 1 bathroom\n",
    "- changing the data type to int\n",
    "- adding the ratio between the number of bathrooms & rooms as a column"
   ]
  },
  {
   "cell_type": "code",
   "execution_count": 12,
   "metadata": {},
   "outputs": [
    {
     "data": {
      "text/plain": [
       "1      1468\n",
       "2       825\n",
       "3       175\n",
       "NaN      41\n",
       "4        32\n",
       "5         3\n",
       "7         1\n",
       "11        1\n",
       "Name: bathrooms, dtype: int64"
      ]
     },
     "execution_count": 12,
     "metadata": {},
     "output_type": "execute_result"
    }
   ],
   "source": [
    "df['bathrooms'].value_counts(dropna=False)"
   ]
  },
  {
   "cell_type": "code",
   "execution_count": 13,
   "metadata": {},
   "outputs": [],
   "source": [
    "df['bathrooms'].fillna('1', inplace=True)\n",
    "df['bathrooms'] = df['bathrooms'].astype(int)\n",
    "df['bathrooms_ratio'] = df['bathrooms'] / df['rooms']"
   ]
  },
  {
   "cell_type": "markdown",
   "metadata": {},
   "source": [
    "### Transforming building_year\n",
    "- translating categories into English\n",
    "- creating **not_finished** & **not_started** categories for new buildings\n",
    "- assigning each year to its category\n",
    "- creating dummies"
   ]
  },
  {
   "cell_type": "code",
   "execution_count": 14,
   "metadata": {},
   "outputs": [],
   "source": [
    "df['building_year'] = df['building_year'].apply(lambda x: 'not_finished' if 'constructie' in x else x)\n",
    "df['building_year'] = df['building_year'].apply(lambda x: 'not_started' if 'proiect' in x else x)\n",
    "df['building_year'] = df['building_year'].apply(lambda x: x.replace('(finalizata)', '').strip())\n",
    "df['building_year'] = df['building_year'].apply(lambda x: translate_building_year_values(x))\n",
    "df['building_year'] = df['building_year'].apply(lambda x: get_building_year_category(x))\n",
    "df = pd.concat([df, pd.get_dummies(df['building_year'])], axis=1)"
   ]
  },
  {
   "cell_type": "markdown",
   "metadata": {},
   "source": [
    "### Transforming building_structure\n",
    "- fill missing values with distinct category\n",
    "- translate the most common value into English\n",
    "- unify all other categories into single category\n",
    "- create dummies"
   ]
  },
  {
   "cell_type": "code",
   "execution_count": 15,
   "metadata": {},
   "outputs": [
    {
     "data": {
      "text/plain": [
       "beton       1372\n",
       "NaN          737\n",
       "altele       298\n",
       "caramida     138\n",
       "lemn           1\n",
       "Name: building_structure, dtype: int64"
      ]
     },
     "execution_count": 15,
     "metadata": {},
     "output_type": "execute_result"
    }
   ],
   "source": [
    "df['building_structure'].value_counts(dropna=False)"
   ]
  },
  {
   "cell_type": "code",
   "execution_count": 16,
   "metadata": {},
   "outputs": [],
   "source": [
    "df['building_structure'].fillna('unknown_building_structure', inplace=True)\n",
    "df['building_structure'].replace('beton', 'concrete_building_structure', inplace=True)\n",
    "other_building_structures = [\n",
    "    val for val in df['building_structure'].unique() \n",
    "    if val not in ['concrete_building_structure', 'unknown_building_structure']\n",
    "]\n",
    "df['building_structure'].replace(other_building_structures, 'other_building_structure', inplace=True)\n",
    "df = pd.concat([df, pd.get_dummies(df['building_structure'])], axis=1)"
   ]
  },
  {
   "cell_type": "markdown",
   "metadata": {},
   "source": [
    "### Transforming balconies\n",
    "- replace null values with 0\n",
    "- create new binary variable to signify the presence of at least one balcony"
   ]
  },
  {
   "cell_type": "code",
   "execution_count": 17,
   "metadata": {},
   "outputs": [
    {
     "data": {
      "text/plain": [
       "1                1159\n",
       "NaN               709\n",
       "2                 295\n",
       "1 (închise)       270\n",
       "2 (închise)        48\n",
       "3                  43\n",
       "4                   6\n",
       "5                   6\n",
       "2 (1 închise)       4\n",
       "3 (închise)         3\n",
       "4 (2 închise)       1\n",
       "4 (închise)         1\n",
       "11                  1\n",
       "Name: balconies, dtype: int64"
      ]
     },
     "execution_count": 17,
     "metadata": {},
     "output_type": "execute_result"
    }
   ],
   "source": [
    "df['balconies'].value_counts(dropna=False)"
   ]
  },
  {
   "cell_type": "code",
   "execution_count": 18,
   "metadata": {},
   "outputs": [],
   "source": [
    "df['has_balconies'] = (~df['balconies'].isnull()).astype(int)"
   ]
  },
  {
   "cell_type": "markdown",
   "metadata": {},
   "source": [
    "### Transforming parking_spots & garages\n",
    "- replace null with 0\n",
    "- create new binary variable to signify the presence of at least one parking spot or garage"
   ]
  },
  {
   "cell_type": "code",
   "execution_count": 19,
   "metadata": {},
   "outputs": [
    {
     "data": {
      "text/plain": [
       "NaN                     2080\n",
       "1                        333\n",
       "2                         80\n",
       "1 - Inclus în preț        39\n",
       "2 - Incluse în preț        4\n",
       "37                         3\n",
       "3                          2\n",
       "5                          2\n",
       "3 - Incluse în preț        1\n",
       "10 - Incluse în preț       1\n",
       "5 - Incluse în preț        1\n",
       "Name: parking_spots, dtype: int64"
      ]
     },
     "execution_count": 19,
     "metadata": {},
     "output_type": "execute_result"
    }
   ],
   "source": [
    "df['parking_spots'].value_counts(dropna=False)"
   ]
  },
  {
   "cell_type": "code",
   "execution_count": 20,
   "metadata": {},
   "outputs": [
    {
     "data": {
      "text/plain": [
       "NaN    2455\n",
       "1        73\n",
       "2        14\n",
       "4         2\n",
       "3         1\n",
       "5         1\n",
       "Name: garages, dtype: int64"
      ]
     },
     "execution_count": 20,
     "metadata": {},
     "output_type": "execute_result"
    }
   ],
   "source": [
    "df['garages'].value_counts(dropna=False)"
   ]
  },
  {
   "cell_type": "code",
   "execution_count": 25,
   "metadata": {},
   "outputs": [],
   "source": [
    "df['has_parking_spots_or_garages'] = ((~df['garages'].isnull()) | (~df['parking_spots'].isnull())).astype(int)"
   ]
  },
  {
   "cell_type": "markdown",
   "metadata": {},
   "source": [
    "### Transforming area\n",
    "- creating area column with values from each url\n",
    "- creating dummies"
   ]
  },
  {
   "cell_type": "code",
   "execution_count": 44,
   "metadata": {},
   "outputs": [],
   "source": [
    "df['area'] = df['url'].apply(lambda x: x.split('/')[-2].replace('-', '_')+'_area')\n",
    "df = pd.concat([df, pd.get_dummies(df['area'])], axis=1)"
   ]
  },
  {
   "cell_type": "markdown",
   "metadata": {},
   "source": [
    "### Transforming specifications\n",
    "Based on the free text available with all listings, the following features can be easily added:\n",
    "- the availability of floor heating\n",
    "- exclusive reliance on district heating\n",
    "- the availability of video surveillence in the building"
   ]
  },
  {
   "cell_type": "code",
   "execution_count": 22,
   "metadata": {},
   "outputs": [],
   "source": [
    "df['has_floor_heating'] = df['specifications'].apply(lambda x: any(['incalzire prin pardoseala' in val.lower() for val in x])).astype(int)\n",
    "df['only_district_heating'] = df['specifications'].apply(lambda x: not any([('centrala proprie' in val.lower()) | ('centrala imobil' in val.lower()) for val in x])).astype(int)\n",
    "df['building_with_video_surveillance'] = df['specifications'].apply(lambda x: any(['supraveghere video' in val.lower() for val in x])).astype(int)"
   ]
  },
  {
   "cell_type": "code",
   "execution_count": 46,
   "metadata": {},
   "outputs": [
    {
     "name": "stdout",
     "output_type": "stream",
     "text": [
      "<class 'pandas.core.frame.DataFrame'>\n",
      "Int64Index: 2546 entries, 0 to 2658\n",
      "Data columns (total 42 columns):\n",
      " #   Column                            Non-Null Count  Dtype  \n",
      "---  ------                            --------------  -----  \n",
      " 0   url                               2546 non-null   object \n",
      " 1   rooms                             2546 non-null   int32  \n",
      " 2   surface_area                      2546 non-null   float64\n",
      " 3   bathrooms                         2546 non-null   int32  \n",
      " 4   partition_decomandat              2546 non-null   int32  \n",
      " 5   partition_other                   2546 non-null   int32  \n",
      " 6   comfort_other                     2546 non-null   int32  \n",
      " 7   comfort_1                         2546 non-null   int32  \n",
      " 8   comfort_lux                       2546 non-null   int32  \n",
      " 9   max_floor                         2435 non-null   float64\n",
      " 10  first_floor                       2546 non-null   uint8  \n",
      " 11  last_floor                        2546 non-null   uint8  \n",
      " 12  middle_floor                      2546 non-null   uint8  \n",
      " 13  bathrooms_ratio                   2546 non-null   float64\n",
      " 14  after_2010                        2546 non-null   uint8  \n",
      " 15  before_1941                       2546 non-null   uint8  \n",
      " 16  between_1941_1977                 2546 non-null   uint8  \n",
      " 17  between_1977_1990                 2546 non-null   uint8  \n",
      " 18  between_1990_2000                 2546 non-null   uint8  \n",
      " 19  between_2000_2010                 2546 non-null   uint8  \n",
      " 20  not_finished                      2546 non-null   uint8  \n",
      " 21  not_started                       2546 non-null   uint8  \n",
      " 22  concrete_building_structure       2546 non-null   uint8  \n",
      " 23  other_building_structure          2546 non-null   uint8  \n",
      " 24  unknown_building_structure        2546 non-null   uint8  \n",
      " 25  has_balconies                     2546 non-null   int32  \n",
      " 26  has_parking_spots_or_garages      2546 non-null   int32  \n",
      " 27  has_floor_heating                 2546 non-null   int32  \n",
      " 28  only_district_heating             2546 non-null   int32  \n",
      " 29  building_with_video_surveillance  2546 non-null   int32  \n",
      " 30  eur_price                         2546 non-null   float64\n",
      " 31  1_mai_area                        2546 non-null   uint8  \n",
      " 32  agronomie_area                    2546 non-null   uint8  \n",
      " 33  aviatiei_area                     2546 non-null   uint8  \n",
      " 34  aviatorilor_area                  2546 non-null   uint8  \n",
      " 35  banu_manta_area                   2546 non-null   uint8  \n",
      " 36  chibrit_area                      2546 non-null   uint8  \n",
      " 37  domenii_area                      2546 non-null   uint8  \n",
      " 38  dristor_area                      2546 non-null   uint8  \n",
      " 39  stefan_cel_mare_area              2546 non-null   uint8  \n",
      " 40  titulescu_area                    2546 non-null   uint8  \n",
      " 41  turda_area                        2546 non-null   uint8  \n",
      "dtypes: float64(4), int32(12), object(1), uint8(25)\n",
      "memory usage: 365.4+ KB\n"
     ]
    }
   ],
   "source": [
    "df[['url', 'rooms', 'surface_area', 'bathrooms', 'partition_decomandat', 'partition_other', 'comfort_other', 'comfort_1', 'comfort_lux',\n",
    "       'max_floor', 'first_floor', 'last_floor', 'middle_floor',\n",
    "       'bathrooms_ratio', 'after_2010', 'before_1941', 'between_1941_1977',\n",
    "       'between_1977_1990', 'between_1990_2000', 'between_2000_2010',\n",
    "       'not_finished', 'not_started', 'concrete_building_structure',\n",
    "       'other_building_structure', 'unknown_building_structure',\n",
    "       'has_balconies', 'has_parking_spots_or_garages', 'has_floor_heating', 'only_district_heating',\n",
    "       'building_with_video_surveillance', 'eur_price', '1_mai_area',\n",
    "       'agronomie_area', 'aviatiei_area', 'aviatorilor_area',\n",
    "       'banu_manta_area', 'chibrit_area', 'domenii_area', 'dristor_area',\n",
    "       'stefan_cel_mare_area', 'titulescu_area', 'turda_area']]"
   ]
  }
 ],
 "metadata": {
  "kernelspec": {
   "display_name": "Python 3",
   "language": "python",
   "name": "python3"
  },
  "language_info": {
   "codemirror_mode": {
    "name": "ipython",
    "version": 3
   },
   "file_extension": ".py",
   "mimetype": "text/x-python",
   "name": "python",
   "nbconvert_exporter": "python",
   "pygments_lexer": "ipython3",
   "version": "3.7.3"
  }
 },
 "nbformat": 4,
 "nbformat_minor": 4
}
